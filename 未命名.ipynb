{
 "cells": [
  {
   "cell_type": "code",
   "execution_count": 3,
   "metadata": {},
   "outputs": [],
   "source": [
    "import numpy as np\n",
    "import pandas as pd\n",
    "\n",
    "import matplotlib\n",
    "import matplotlib.pyplot as plt\n",
    "from sklearn import tree\n",
    "from sklearn.tree import DecisionTreeClassifier as DTC, export_graphviz\n",
    "import pydot\n",
    "import pydotplus\n",
    "\n",
    "import time\n",
    "\n",
    "from IPython.display import Image"
   ]
  },
  {
   "cell_type": "code",
   "execution_count": 4,
   "metadata": {
    "tags": []
   },
   "outputs": [
    {
     "output_type": "stream",
     "name": "stdout",
     "text": "<class 'pandas.core.frame.DataFrame'>\nRangeIndex: 10122 entries, 0 to 10121\nData columns (total 18 columns):\n #   Column                Non-Null Count  Dtype  \n---  ------                --------------  -----  \n 0   CUST_ID               10122 non-null  object \n 1   CUST_SEX              10122 non-null  int64  \n 2   CUST_AGE              10028 non-null  float64\n 3   CUST_MARRY            2476 non-null   object \n 4   BUYERPART             10122 non-null  int64  \n 5   CAR_MODEL             10122 non-null  object \n 6   CAR_COLOR             5888 non-null   object \n 7   CAR_AGE               10122 non-null  float64\n 8   CAR_PRICE             10122 non-null  float64\n 9   IS_LOAN               10122 non-null  float64\n 10  LOAN_PERIED           8993 non-null   float64\n 11  LOAN_AMOUNT           8993 non-null   float64\n 12  F_INSORNOT            8494 non-null   float64\n 13  ALL_BUYINS_N          9204 non-null   float64\n 14  DLRSI_CNT             9204 non-null   float64\n 15  GLASSBUYSEPARATE_CNT  9204 non-null   float64\n 16  SII_CNT               9204 non-null   float64\n 17  IS_LOST               10122 non-null  int64  \ndtypes: float64(11), int64(3), object(4)\nmemory usage: 1.2+ MB\n"
    },
    {
     "output_type": "error",
     "ename": "ValueError",
     "evalue": "Must specify a fill 'value' or 'method'.",
     "traceback": [
      "\u001b[1;31m---------------------------------------------------------------------------\u001b[0m",
      "\u001b[1;31mValueError\u001b[0m                                Traceback (most recent call last)",
      "\u001b[1;32m<ipython-input-4-ba583a301061>\u001b[0m in \u001b[0;36m<module>\u001b[1;34m\u001b[0m\n\u001b[0;32m      1\u001b[0m \u001b[0mTrain_data\u001b[0m \u001b[1;33m=\u001b[0m \u001b[0mpd\u001b[0m\u001b[1;33m.\u001b[0m\u001b[0mread_csv\u001b[0m\u001b[1;33m(\u001b[0m\u001b[1;34m'./datalab/car_info_test.csv'\u001b[0m\u001b[1;33m)\u001b[0m\u001b[1;33m\u001b[0m\u001b[1;33m\u001b[0m\u001b[0m\n\u001b[0;32m      2\u001b[0m \u001b[0mTrain_data\u001b[0m\u001b[1;33m.\u001b[0m\u001b[0minfo\u001b[0m\u001b[1;33m(\u001b[0m\u001b[1;33m)\u001b[0m\u001b[1;33m\u001b[0m\u001b[1;33m\u001b[0m\u001b[0m\n\u001b[1;32m----> 3\u001b[1;33m \u001b[0mTrain_data\u001b[0m\u001b[1;33m.\u001b[0m\u001b[0mfillna\u001b[0m\u001b[1;33m(\u001b[0m\u001b[1;33m)\u001b[0m\u001b[1;33m\u001b[0m\u001b[1;33m\u001b[0m\u001b[0m\n\u001b[0m",
      "\u001b[1;32md:\\GitHubCode\\TianChiData\\TianchiData\\env\\lib\\site-packages\\pandas\\core\\frame.py\u001b[0m in \u001b[0;36mfillna\u001b[1;34m(self, value, method, axis, inplace, limit, downcast)\u001b[0m\n\u001b[0;32m   4145\u001b[0m         \u001b[0mdowncast\u001b[0m\u001b[1;33m=\u001b[0m\u001b[1;32mNone\u001b[0m\u001b[1;33m,\u001b[0m\u001b[1;33m\u001b[0m\u001b[1;33m\u001b[0m\u001b[0m\n\u001b[0;32m   4146\u001b[0m     ) -> Optional[\"DataFrame\"]:\n\u001b[1;32m-> 4147\u001b[1;33m         return super().fillna(\n\u001b[0m\u001b[0;32m   4148\u001b[0m             \u001b[0mvalue\u001b[0m\u001b[1;33m=\u001b[0m\u001b[0mvalue\u001b[0m\u001b[1;33m,\u001b[0m\u001b[1;33m\u001b[0m\u001b[1;33m\u001b[0m\u001b[0m\n\u001b[0;32m   4149\u001b[0m             \u001b[0mmethod\u001b[0m\u001b[1;33m=\u001b[0m\u001b[0mmethod\u001b[0m\u001b[1;33m,\u001b[0m\u001b[1;33m\u001b[0m\u001b[1;33m\u001b[0m\u001b[0m\n",
      "\u001b[1;32md:\\GitHubCode\\TianChiData\\TianchiData\\env\\lib\\site-packages\\pandas\\core\\generic.py\u001b[0m in \u001b[0;36mfillna\u001b[1;34m(self, value, method, axis, inplace, limit, downcast)\u001b[0m\n\u001b[0;32m   6165\u001b[0m         \"\"\"\n\u001b[0;32m   6166\u001b[0m         \u001b[0minplace\u001b[0m \u001b[1;33m=\u001b[0m \u001b[0mvalidate_bool_kwarg\u001b[0m\u001b[1;33m(\u001b[0m\u001b[0minplace\u001b[0m\u001b[1;33m,\u001b[0m \u001b[1;34m\"inplace\"\u001b[0m\u001b[1;33m)\u001b[0m\u001b[1;33m\u001b[0m\u001b[1;33m\u001b[0m\u001b[0m\n\u001b[1;32m-> 6167\u001b[1;33m         \u001b[0mvalue\u001b[0m\u001b[1;33m,\u001b[0m \u001b[0mmethod\u001b[0m \u001b[1;33m=\u001b[0m \u001b[0mvalidate_fillna_kwargs\u001b[0m\u001b[1;33m(\u001b[0m\u001b[0mvalue\u001b[0m\u001b[1;33m,\u001b[0m \u001b[0mmethod\u001b[0m\u001b[1;33m)\u001b[0m\u001b[1;33m\u001b[0m\u001b[1;33m\u001b[0m\u001b[0m\n\u001b[0m\u001b[0;32m   6168\u001b[0m \u001b[1;33m\u001b[0m\u001b[0m\n\u001b[0;32m   6169\u001b[0m         \u001b[0mself\u001b[0m\u001b[1;33m.\u001b[0m\u001b[0m_consolidate_inplace\u001b[0m\u001b[1;33m(\u001b[0m\u001b[1;33m)\u001b[0m\u001b[1;33m\u001b[0m\u001b[1;33m\u001b[0m\u001b[0m\n",
      "\u001b[1;32md:\\GitHubCode\\TianChiData\\TianchiData\\env\\lib\\site-packages\\pandas\\util\\_validators.py\u001b[0m in \u001b[0;36mvalidate_fillna_kwargs\u001b[1;34m(value, method, validate_scalar_dict_value)\u001b[0m\n\u001b[0;32m    330\u001b[0m \u001b[1;33m\u001b[0m\u001b[0m\n\u001b[0;32m    331\u001b[0m     \u001b[1;32mif\u001b[0m \u001b[0mvalue\u001b[0m \u001b[1;32mis\u001b[0m \u001b[1;32mNone\u001b[0m \u001b[1;32mand\u001b[0m \u001b[0mmethod\u001b[0m \u001b[1;32mis\u001b[0m \u001b[1;32mNone\u001b[0m\u001b[1;33m:\u001b[0m\u001b[1;33m\u001b[0m\u001b[1;33m\u001b[0m\u001b[0m\n\u001b[1;32m--> 332\u001b[1;33m         \u001b[1;32mraise\u001b[0m \u001b[0mValueError\u001b[0m\u001b[1;33m(\u001b[0m\u001b[1;34m\"Must specify a fill 'value' or 'method'.\"\u001b[0m\u001b[1;33m)\u001b[0m\u001b[1;33m\u001b[0m\u001b[1;33m\u001b[0m\u001b[0m\n\u001b[0m\u001b[0;32m    333\u001b[0m     \u001b[1;32melif\u001b[0m \u001b[0mvalue\u001b[0m \u001b[1;32mis\u001b[0m \u001b[1;32mNone\u001b[0m \u001b[1;32mand\u001b[0m \u001b[0mmethod\u001b[0m \u001b[1;32mis\u001b[0m \u001b[1;32mnot\u001b[0m \u001b[1;32mNone\u001b[0m\u001b[1;33m:\u001b[0m\u001b[1;33m\u001b[0m\u001b[1;33m\u001b[0m\u001b[0m\n\u001b[0;32m    334\u001b[0m         \u001b[0mmethod\u001b[0m \u001b[1;33m=\u001b[0m \u001b[0mclean_fill_method\u001b[0m\u001b[1;33m(\u001b[0m\u001b[0mmethod\u001b[0m\u001b[1;33m)\u001b[0m\u001b[1;33m\u001b[0m\u001b[1;33m\u001b[0m\u001b[0m\n",
      "\u001b[1;31mValueError\u001b[0m: Must specify a fill 'value' or 'method'."
     ]
    }
   ],
   "source": [
    "Train_data = pd.read_csv('./datalab/car_info_test.csv')\n",
    "Train_data.info()"
   ]
  },
  {
   "cell_type": "code",
   "execution_count": 16,
   "metadata": {},
   "outputs": [
    {
     "output_type": "execute_result",
     "data": {
      "text/plain": "                                CUST_ID  CUST_SEX  CUST_AGE CUST_MARRY  \\\n0      DD1DE01F1C100B840717E038EB73F9D8         2         2        NaN   \n1      9A718ED5931A03356D534E56FE56868F         1         1        NaN   \n2      C12942417D044961F0EC732BEC4825FD         1         1        NaN   \n3      8B7B11D814A68914C94C1C39CF3E704A         1         2        NaN   \n4      7BA6D4CD559FCE50C5ABBA120EA849C2         1         2        NaN   \n...                                 ...       ...       ...        ...   \n10117  69863834A125EFD7B088438A85287806         1         2         已婚   \n10118  CF37FA2FFDB6B6708D5D3CECCB2AD426         2         1        NaN   \n10119  06FBB5AB28BA332AAF5C79F512ED2E81         1         2        NaN   \n10120  C81936FB4954650B5BA2FA2B51329191         2         2        NaN   \n10121  3EE3578A42F26FACF40903499C022CE6         1         1        NaN   \n\n       BUYERPART CAR_MODEL CAR_COLOR  CAR_AGE  CAR_PRICE  IS_LOAN  \\\n0              1       车型4      银金属色        3          2      1.0   \n1              1       车型4      银金属色        2          2      1.0   \n2              1       车型2      银金属色        2          2      1.0   \n3              1      车型13      珍珠白色        1          4      1.0   \n4              1       车型5        黑色        4          4      1.0   \n...          ...       ...       ...      ...        ...      ...   \n10117          1       车型5        黑色        2          3      1.0   \n10118          1       车型2      银金属色        2          2      1.0   \n10119          1       车型2      银金属色        1          2      1.0   \n10120          1       车型7       NaN        2          1      1.0   \n10121          1       车型4      银金属色        3          2      1.0   \n\n       LOAN_PERIED  LOAN_AMOUNT  F_INSORNOT  ALL_BUYINS_N  DLRSI_CNT  \\\n0              5.0            2         1.0           1.0        1.0   \n1              5.0            2         1.0           3.0        0.0   \n2              5.0            1         1.0           1.0        1.0   \n3              5.0            2         1.0           1.0        0.0   \n4              5.0            3         1.0           2.0        1.0   \n...            ...          ...         ...           ...        ...   \n10117          3.0            2         1.0           3.0        0.0   \n10118          4.0            2         1.0           1.0        0.0   \n10119          5.0            2         1.0           1.0        0.0   \n10120          4.0            2         1.0           2.0        0.0   \n10121          4.0            1         1.0           5.0        0.0   \n\n       GLASSBUYSEPARATE_CNT  SII_CNT  IS_LOST  \n0                       1.0      0.0        0  \n1                       3.0      3.0        0  \n2                       1.0      1.0        0  \n3                       1.0      0.0        0  \n4                       1.0      0.0        1  \n...                     ...      ...      ...  \n10117                   3.0      1.0        0  \n10118                   0.0      0.0        0  \n10119                   1.0      0.0        0  \n10120                   0.0      0.0        1  \n10121                   5.0      0.0        0  \n\n[10122 rows x 18 columns]",
      "text/html": "<div>\n<style scoped>\n    .dataframe tbody tr th:only-of-type {\n        vertical-align: middle;\n    }\n\n    .dataframe tbody tr th {\n        vertical-align: top;\n    }\n\n    .dataframe thead th {\n        text-align: right;\n    }\n</style>\n<table border=\"1\" class=\"dataframe\">\n  <thead>\n    <tr style=\"text-align: right;\">\n      <th></th>\n      <th>CUST_ID</th>\n      <th>CUST_SEX</th>\n      <th>CUST_AGE</th>\n      <th>CUST_MARRY</th>\n      <th>BUYERPART</th>\n      <th>CAR_MODEL</th>\n      <th>CAR_COLOR</th>\n      <th>CAR_AGE</th>\n      <th>CAR_PRICE</th>\n      <th>IS_LOAN</th>\n      <th>LOAN_PERIED</th>\n      <th>LOAN_AMOUNT</th>\n      <th>F_INSORNOT</th>\n      <th>ALL_BUYINS_N</th>\n      <th>DLRSI_CNT</th>\n      <th>GLASSBUYSEPARATE_CNT</th>\n      <th>SII_CNT</th>\n      <th>IS_LOST</th>\n    </tr>\n  </thead>\n  <tbody>\n    <tr>\n      <th>0</th>\n      <td>DD1DE01F1C100B840717E038EB73F9D8</td>\n      <td>2</td>\n      <td>2</td>\n      <td>NaN</td>\n      <td>1</td>\n      <td>车型4</td>\n      <td>银金属色</td>\n      <td>3</td>\n      <td>2</td>\n      <td>1.0</td>\n      <td>5.0</td>\n      <td>2</td>\n      <td>1.0</td>\n      <td>1.0</td>\n      <td>1.0</td>\n      <td>1.0</td>\n      <td>0.0</td>\n      <td>0</td>\n    </tr>\n    <tr>\n      <th>1</th>\n      <td>9A718ED5931A03356D534E56FE56868F</td>\n      <td>1</td>\n      <td>1</td>\n      <td>NaN</td>\n      <td>1</td>\n      <td>车型4</td>\n      <td>银金属色</td>\n      <td>2</td>\n      <td>2</td>\n      <td>1.0</td>\n      <td>5.0</td>\n      <td>2</td>\n      <td>1.0</td>\n      <td>3.0</td>\n      <td>0.0</td>\n      <td>3.0</td>\n      <td>3.0</td>\n      <td>0</td>\n    </tr>\n    <tr>\n      <th>2</th>\n      <td>C12942417D044961F0EC732BEC4825FD</td>\n      <td>1</td>\n      <td>1</td>\n      <td>NaN</td>\n      <td>1</td>\n      <td>车型2</td>\n      <td>银金属色</td>\n      <td>2</td>\n      <td>2</td>\n      <td>1.0</td>\n      <td>5.0</td>\n      <td>1</td>\n      <td>1.0</td>\n      <td>1.0</td>\n      <td>1.0</td>\n      <td>1.0</td>\n      <td>1.0</td>\n      <td>0</td>\n    </tr>\n    <tr>\n      <th>3</th>\n      <td>8B7B11D814A68914C94C1C39CF3E704A</td>\n      <td>1</td>\n      <td>2</td>\n      <td>NaN</td>\n      <td>1</td>\n      <td>车型13</td>\n      <td>珍珠白色</td>\n      <td>1</td>\n      <td>4</td>\n      <td>1.0</td>\n      <td>5.0</td>\n      <td>2</td>\n      <td>1.0</td>\n      <td>1.0</td>\n      <td>0.0</td>\n      <td>1.0</td>\n      <td>0.0</td>\n      <td>0</td>\n    </tr>\n    <tr>\n      <th>4</th>\n      <td>7BA6D4CD559FCE50C5ABBA120EA849C2</td>\n      <td>1</td>\n      <td>2</td>\n      <td>NaN</td>\n      <td>1</td>\n      <td>车型5</td>\n      <td>黑色</td>\n      <td>4</td>\n      <td>4</td>\n      <td>1.0</td>\n      <td>5.0</td>\n      <td>3</td>\n      <td>1.0</td>\n      <td>2.0</td>\n      <td>1.0</td>\n      <td>1.0</td>\n      <td>0.0</td>\n      <td>1</td>\n    </tr>\n    <tr>\n      <th>...</th>\n      <td>...</td>\n      <td>...</td>\n      <td>...</td>\n      <td>...</td>\n      <td>...</td>\n      <td>...</td>\n      <td>...</td>\n      <td>...</td>\n      <td>...</td>\n      <td>...</td>\n      <td>...</td>\n      <td>...</td>\n      <td>...</td>\n      <td>...</td>\n      <td>...</td>\n      <td>...</td>\n      <td>...</td>\n      <td>...</td>\n    </tr>\n    <tr>\n      <th>10117</th>\n      <td>69863834A125EFD7B088438A85287806</td>\n      <td>1</td>\n      <td>2</td>\n      <td>已婚</td>\n      <td>1</td>\n      <td>车型5</td>\n      <td>黑色</td>\n      <td>2</td>\n      <td>3</td>\n      <td>1.0</td>\n      <td>3.0</td>\n      <td>2</td>\n      <td>1.0</td>\n      <td>3.0</td>\n      <td>0.0</td>\n      <td>3.0</td>\n      <td>1.0</td>\n      <td>0</td>\n    </tr>\n    <tr>\n      <th>10118</th>\n      <td>CF37FA2FFDB6B6708D5D3CECCB2AD426</td>\n      <td>2</td>\n      <td>1</td>\n      <td>NaN</td>\n      <td>1</td>\n      <td>车型2</td>\n      <td>银金属色</td>\n      <td>2</td>\n      <td>2</td>\n      <td>1.0</td>\n      <td>4.0</td>\n      <td>2</td>\n      <td>1.0</td>\n      <td>1.0</td>\n      <td>0.0</td>\n      <td>0.0</td>\n      <td>0.0</td>\n      <td>0</td>\n    </tr>\n    <tr>\n      <th>10119</th>\n      <td>06FBB5AB28BA332AAF5C79F512ED2E81</td>\n      <td>1</td>\n      <td>2</td>\n      <td>NaN</td>\n      <td>1</td>\n      <td>车型2</td>\n      <td>银金属色</td>\n      <td>1</td>\n      <td>2</td>\n      <td>1.0</td>\n      <td>5.0</td>\n      <td>2</td>\n      <td>1.0</td>\n      <td>1.0</td>\n      <td>0.0</td>\n      <td>1.0</td>\n      <td>0.0</td>\n      <td>0</td>\n    </tr>\n    <tr>\n      <th>10120</th>\n      <td>C81936FB4954650B5BA2FA2B51329191</td>\n      <td>2</td>\n      <td>2</td>\n      <td>NaN</td>\n      <td>1</td>\n      <td>车型7</td>\n      <td>NaN</td>\n      <td>2</td>\n      <td>1</td>\n      <td>1.0</td>\n      <td>4.0</td>\n      <td>2</td>\n      <td>1.0</td>\n      <td>2.0</td>\n      <td>0.0</td>\n      <td>0.0</td>\n      <td>0.0</td>\n      <td>1</td>\n    </tr>\n    <tr>\n      <th>10121</th>\n      <td>3EE3578A42F26FACF40903499C022CE6</td>\n      <td>1</td>\n      <td>1</td>\n      <td>NaN</td>\n      <td>1</td>\n      <td>车型4</td>\n      <td>银金属色</td>\n      <td>3</td>\n      <td>2</td>\n      <td>1.0</td>\n      <td>4.0</td>\n      <td>1</td>\n      <td>1.0</td>\n      <td>5.0</td>\n      <td>0.0</td>\n      <td>5.0</td>\n      <td>0.0</td>\n      <td>0</td>\n    </tr>\n  </tbody>\n</table>\n<p>10122 rows × 18 columns</p>\n</div>"
     },
     "metadata": {},
     "execution_count": 16
    }
   ],
   "source": [
    "Train_data"
   ]
  },
  {
   "cell_type": "code",
   "execution_count": 17,
   "metadata": {
    "tags": []
   },
   "outputs": [
    {
     "output_type": "stream",
     "name": "stdout",
     "text": "Index(['CUST_SEX', 'CUST_AGE', 'BUYERPART', 'CAR_AGE', 'CAR_PRICE', 'IS_LOAN',\n       'LOAN_PERIED', 'LOAN_AMOUNT', 'F_INSORNOT', 'ALL_BUYINS_N', 'DLRSI_CNT',\n       'GLASSBUYSEPARATE_CNT', 'SII_CNT', 'IS_LOST'],\n      dtype='object')\n"
    }
   ],
   "source": [
    "numerical_cols = Train_data.select_dtypes(exclude = 'object').columns\n",
    "print(numerical_cols)"
   ]
  },
  {
   "cell_type": "code",
   "execution_count": 18,
   "metadata": {},
   "outputs": [],
   "source": [
    "Train_data['CUST_AGE'] = Train_data.CUST_AGE.apply(lambda x: 1 if (x<=35 and x >=16) else 2 if (x >= 36 and x <= 60) else 3)\n",
    "Train_data['CAR_AGE'] = Train_data.CAR_AGE.apply(lambda x: 1 if (x <=730) else 2 if (x >=731 and x <= 1460) else 3 if (x >= 1461 and x <= 2190) else 4 if (x >= 2191 and x <= 3650) else 5)\n",
    "Train_data['CAR_PRICE'] = Train_data.CAR_PRICE.apply(lambda x: 1 if (x >=50000 and x <= 90000) else 2 if (x >= 90001 and x<= 150000) else 3 if (x >= 150001 and x <= 300000) else 4)\n",
    "Train_data['LOAN_AMOUNT'] = Train_data.LOAN_AMOUNT.apply(lambda x: 1 if (x <= 50000) else 2 if(x >=50001 and x <= 200000) else 3 if(x >= 200001 and x <= 500000) else 4)"
   ]
  },
  {
   "cell_type": "code",
   "execution_count": 8,
   "metadata": {},
   "outputs": [
    {
     "output_type": "execute_result",
     "data": {
      "text/plain": "                            CUST_ID  CUST_SEX  CUST_AGE CUST_MARRY  BUYERPART  \\\n0  DD1DE01F1C100B840717E038EB73F9D8         2         2        NaN          1   \n1  9A718ED5931A03356D534E56FE56868F         1         1        NaN          1   \n2  C12942417D044961F0EC732BEC4825FD         1         1        NaN          1   \n3  8B7B11D814A68914C94C1C39CF3E704A         1         2        NaN          1   \n4  7BA6D4CD559FCE50C5ABBA120EA849C2         1         2        NaN          1   \n\n  CAR_MODEL CAR_COLOR  CAR_AGE  CAR_PRICE  IS_LOAN  LOAN_PERIED  LOAN_AMOUNT  \\\n0       车型4      银金属色        3          2      1.0          5.0            2   \n1       车型4      银金属色        2          2      1.0          5.0            2   \n2       车型2      银金属色        2          2      1.0          5.0            1   \n3      车型13      珍珠白色        1          4      1.0          5.0            2   \n4       车型5        黑色        4          4      1.0          5.0            3   \n\n   F_INSORNOT  ALL_BUYINS_N  DLRSI_CNT  GLASSBUYSEPARATE_CNT  SII_CNT  IS_LOST  \n0         1.0           1.0        1.0                   1.0      0.0        0  \n1         1.0           3.0        0.0                   3.0      3.0        0  \n2         1.0           1.0        1.0                   1.0      1.0        0  \n3         1.0           1.0        0.0                   1.0      0.0        0  \n4         1.0           2.0        1.0                   1.0      0.0        1  ",
      "text/html": "<div>\n<style scoped>\n    .dataframe tbody tr th:only-of-type {\n        vertical-align: middle;\n    }\n\n    .dataframe tbody tr th {\n        vertical-align: top;\n    }\n\n    .dataframe thead th {\n        text-align: right;\n    }\n</style>\n<table border=\"1\" class=\"dataframe\">\n  <thead>\n    <tr style=\"text-align: right;\">\n      <th></th>\n      <th>CUST_ID</th>\n      <th>CUST_SEX</th>\n      <th>CUST_AGE</th>\n      <th>CUST_MARRY</th>\n      <th>BUYERPART</th>\n      <th>CAR_MODEL</th>\n      <th>CAR_COLOR</th>\n      <th>CAR_AGE</th>\n      <th>CAR_PRICE</th>\n      <th>IS_LOAN</th>\n      <th>LOAN_PERIED</th>\n      <th>LOAN_AMOUNT</th>\n      <th>F_INSORNOT</th>\n      <th>ALL_BUYINS_N</th>\n      <th>DLRSI_CNT</th>\n      <th>GLASSBUYSEPARATE_CNT</th>\n      <th>SII_CNT</th>\n      <th>IS_LOST</th>\n    </tr>\n  </thead>\n  <tbody>\n    <tr>\n      <th>0</th>\n      <td>DD1DE01F1C100B840717E038EB73F9D8</td>\n      <td>2</td>\n      <td>2</td>\n      <td>NaN</td>\n      <td>1</td>\n      <td>车型4</td>\n      <td>银金属色</td>\n      <td>3</td>\n      <td>2</td>\n      <td>1.0</td>\n      <td>5.0</td>\n      <td>2</td>\n      <td>1.0</td>\n      <td>1.0</td>\n      <td>1.0</td>\n      <td>1.0</td>\n      <td>0.0</td>\n      <td>0</td>\n    </tr>\n    <tr>\n      <th>1</th>\n      <td>9A718ED5931A03356D534E56FE56868F</td>\n      <td>1</td>\n      <td>1</td>\n      <td>NaN</td>\n      <td>1</td>\n      <td>车型4</td>\n      <td>银金属色</td>\n      <td>2</td>\n      <td>2</td>\n      <td>1.0</td>\n      <td>5.0</td>\n      <td>2</td>\n      <td>1.0</td>\n      <td>3.0</td>\n      <td>0.0</td>\n      <td>3.0</td>\n      <td>3.0</td>\n      <td>0</td>\n    </tr>\n    <tr>\n      <th>2</th>\n      <td>C12942417D044961F0EC732BEC4825FD</td>\n      <td>1</td>\n      <td>1</td>\n      <td>NaN</td>\n      <td>1</td>\n      <td>车型2</td>\n      <td>银金属色</td>\n      <td>2</td>\n      <td>2</td>\n      <td>1.0</td>\n      <td>5.0</td>\n      <td>1</td>\n      <td>1.0</td>\n      <td>1.0</td>\n      <td>1.0</td>\n      <td>1.0</td>\n      <td>1.0</td>\n      <td>0</td>\n    </tr>\n    <tr>\n      <th>3</th>\n      <td>8B7B11D814A68914C94C1C39CF3E704A</td>\n      <td>1</td>\n      <td>2</td>\n      <td>NaN</td>\n      <td>1</td>\n      <td>车型13</td>\n      <td>珍珠白色</td>\n      <td>1</td>\n      <td>4</td>\n      <td>1.0</td>\n      <td>5.0</td>\n      <td>2</td>\n      <td>1.0</td>\n      <td>1.0</td>\n      <td>0.0</td>\n      <td>1.0</td>\n      <td>0.0</td>\n      <td>0</td>\n    </tr>\n    <tr>\n      <th>4</th>\n      <td>7BA6D4CD559FCE50C5ABBA120EA849C2</td>\n      <td>1</td>\n      <td>2</td>\n      <td>NaN</td>\n      <td>1</td>\n      <td>车型5</td>\n      <td>黑色</td>\n      <td>4</td>\n      <td>4</td>\n      <td>1.0</td>\n      <td>5.0</td>\n      <td>3</td>\n      <td>1.0</td>\n      <td>2.0</td>\n      <td>1.0</td>\n      <td>1.0</td>\n      <td>0.0</td>\n      <td>1</td>\n    </tr>\n  </tbody>\n</table>\n</div>"
     },
     "metadata": {},
     "execution_count": 8
    }
   ],
   "source": [
    "Train_data.head()"
   ]
  },
  {
   "cell_type": "code",
   "execution_count": 19,
   "metadata": {},
   "outputs": [
    {
     "output_type": "execute_result",
     "data": {
      "text/plain": "CUST_ID                 False\nCUST_SEX                False\nCUST_AGE                False\nCUST_MARRY               True\nBUYERPART               False\nCAR_MODEL               False\nCAR_COLOR                True\nCAR_AGE                 False\nCAR_PRICE               False\nIS_LOAN                 False\nLOAN_PERIED              True\nLOAN_AMOUNT             False\nF_INSORNOT               True\nALL_BUYINS_N             True\nDLRSI_CNT                True\nGLASSBUYSEPARATE_CNT     True\nSII_CNT                  True\nIS_LOST                 False\ndtype: bool"
     },
     "metadata": {},
     "execution_count": 19
    }
   ],
   "source": [
    "Train_data.isnull().any()"
   ]
  },
  {
   "cell_type": "code",
   "execution_count": 20,
   "metadata": {
    "tags": []
   },
   "outputs": [
    {
     "output_type": "execute_result",
     "data": {
      "text/plain": "       CUST_SEX  CUST_AGE  BUYERPART  CAR_AGE  CAR_PRICE  IS_LOAN  \\\n0             2         3          1        1          4      1.0   \n1             1         3          1        1          4      1.0   \n2             1         3          1        1          4      1.0   \n3             1         3          1        1          4      1.0   \n4             1         3          1        1          4      1.0   \n...         ...       ...        ...      ...        ...      ...   \n10117         1         3          1        1          4      1.0   \n10118         2         3          1        1          4      1.0   \n10119         1         3          1        1          4      1.0   \n10120         2         3          1        1          4      1.0   \n10121         1         3          1        1          4      1.0   \n\n       LOAN_PERIED  LOAN_AMOUNT  F_INSORNOT  ALL_BUYINS_N  DLRSI_CNT  \\\n0              5.0            1         1.0           1.0        1.0   \n1              5.0            1         1.0           3.0        0.0   \n2              5.0            1         1.0           1.0        1.0   \n3              5.0            1         1.0           1.0        0.0   \n4              5.0            1         1.0           2.0        1.0   \n...            ...          ...         ...           ...        ...   \n10117          3.0            1         1.0           3.0        0.0   \n10118          4.0            1         1.0           1.0        0.0   \n10119          5.0            1         1.0           1.0        0.0   \n10120          4.0            1         1.0           2.0        0.0   \n10121          4.0            1         1.0           5.0        0.0   \n\n       GLASSBUYSEPARATE_CNT  SII_CNT  \n0                       1.0      0.0  \n1                       3.0      3.0  \n2                       1.0      1.0  \n3                       1.0      0.0  \n4                       1.0      0.0  \n...                     ...      ...  \n10117                   3.0      1.0  \n10118                   0.0      0.0  \n10119                   1.0      0.0  \n10120                   0.0      0.0  \n10121                   5.0      0.0  \n\n[10122 rows x 13 columns]",
      "text/html": "<div>\n<style scoped>\n    .dataframe tbody tr th:only-of-type {\n        vertical-align: middle;\n    }\n\n    .dataframe tbody tr th {\n        vertical-align: top;\n    }\n\n    .dataframe thead th {\n        text-align: right;\n    }\n</style>\n<table border=\"1\" class=\"dataframe\">\n  <thead>\n    <tr style=\"text-align: right;\">\n      <th></th>\n      <th>CUST_SEX</th>\n      <th>CUST_AGE</th>\n      <th>BUYERPART</th>\n      <th>CAR_AGE</th>\n      <th>CAR_PRICE</th>\n      <th>IS_LOAN</th>\n      <th>LOAN_PERIED</th>\n      <th>LOAN_AMOUNT</th>\n      <th>F_INSORNOT</th>\n      <th>ALL_BUYINS_N</th>\n      <th>DLRSI_CNT</th>\n      <th>GLASSBUYSEPARATE_CNT</th>\n      <th>SII_CNT</th>\n    </tr>\n  </thead>\n  <tbody>\n    <tr>\n      <th>0</th>\n      <td>2</td>\n      <td>3</td>\n      <td>1</td>\n      <td>1</td>\n      <td>4</td>\n      <td>1.0</td>\n      <td>5.0</td>\n      <td>1</td>\n      <td>1.0</td>\n      <td>1.0</td>\n      <td>1.0</td>\n      <td>1.0</td>\n      <td>0.0</td>\n    </tr>\n    <tr>\n      <th>1</th>\n      <td>1</td>\n      <td>3</td>\n      <td>1</td>\n      <td>1</td>\n      <td>4</td>\n      <td>1.0</td>\n      <td>5.0</td>\n      <td>1</td>\n      <td>1.0</td>\n      <td>3.0</td>\n      <td>0.0</td>\n      <td>3.0</td>\n      <td>3.0</td>\n    </tr>\n    <tr>\n      <th>2</th>\n      <td>1</td>\n      <td>3</td>\n      <td>1</td>\n      <td>1</td>\n      <td>4</td>\n      <td>1.0</td>\n      <td>5.0</td>\n      <td>1</td>\n      <td>1.0</td>\n      <td>1.0</td>\n      <td>1.0</td>\n      <td>1.0</td>\n      <td>1.0</td>\n    </tr>\n    <tr>\n      <th>3</th>\n      <td>1</td>\n      <td>3</td>\n      <td>1</td>\n      <td>1</td>\n      <td>4</td>\n      <td>1.0</td>\n      <td>5.0</td>\n      <td>1</td>\n      <td>1.0</td>\n      <td>1.0</td>\n      <td>0.0</td>\n      <td>1.0</td>\n      <td>0.0</td>\n    </tr>\n    <tr>\n      <th>4</th>\n      <td>1</td>\n      <td>3</td>\n      <td>1</td>\n      <td>1</td>\n      <td>4</td>\n      <td>1.0</td>\n      <td>5.0</td>\n      <td>1</td>\n      <td>1.0</td>\n      <td>2.0</td>\n      <td>1.0</td>\n      <td>1.0</td>\n      <td>0.0</td>\n    </tr>\n    <tr>\n      <th>...</th>\n      <td>...</td>\n      <td>...</td>\n      <td>...</td>\n      <td>...</td>\n      <td>...</td>\n      <td>...</td>\n      <td>...</td>\n      <td>...</td>\n      <td>...</td>\n      <td>...</td>\n      <td>...</td>\n      <td>...</td>\n      <td>...</td>\n    </tr>\n    <tr>\n      <th>10117</th>\n      <td>1</td>\n      <td>3</td>\n      <td>1</td>\n      <td>1</td>\n      <td>4</td>\n      <td>1.0</td>\n      <td>3.0</td>\n      <td>1</td>\n      <td>1.0</td>\n      <td>3.0</td>\n      <td>0.0</td>\n      <td>3.0</td>\n      <td>1.0</td>\n    </tr>\n    <tr>\n      <th>10118</th>\n      <td>2</td>\n      <td>3</td>\n      <td>1</td>\n      <td>1</td>\n      <td>4</td>\n      <td>1.0</td>\n      <td>4.0</td>\n      <td>1</td>\n      <td>1.0</td>\n      <td>1.0</td>\n      <td>0.0</td>\n      <td>0.0</td>\n      <td>0.0</td>\n    </tr>\n    <tr>\n      <th>10119</th>\n      <td>1</td>\n      <td>3</td>\n      <td>1</td>\n      <td>1</td>\n      <td>4</td>\n      <td>1.0</td>\n      <td>5.0</td>\n      <td>1</td>\n      <td>1.0</td>\n      <td>1.0</td>\n      <td>0.0</td>\n      <td>1.0</td>\n      <td>0.0</td>\n    </tr>\n    <tr>\n      <th>10120</th>\n      <td>2</td>\n      <td>3</td>\n      <td>1</td>\n      <td>1</td>\n      <td>4</td>\n      <td>1.0</td>\n      <td>4.0</td>\n      <td>1</td>\n      <td>1.0</td>\n      <td>2.0</td>\n      <td>0.0</td>\n      <td>0.0</td>\n      <td>0.0</td>\n    </tr>\n    <tr>\n      <th>10121</th>\n      <td>1</td>\n      <td>3</td>\n      <td>1</td>\n      <td>1</td>\n      <td>4</td>\n      <td>1.0</td>\n      <td>4.0</td>\n      <td>1</td>\n      <td>1.0</td>\n      <td>5.0</td>\n      <td>0.0</td>\n      <td>5.0</td>\n      <td>0.0</td>\n    </tr>\n  </tbody>\n</table>\n<p>10122 rows × 13 columns</p>\n</div>"
     },
     "metadata": {},
     "execution_count": 20
    }
   ],
   "source": [
    "feature_cols = [col for col in numerical_cols if col != 'IS_LOST']\n",
    "data = Train_data[feature_cols].fillna(value=0)\n",
    "target = Train_data['IS_LOST']\n",
    "data\n"
   ]
  },
  {
   "cell_type": "code",
   "execution_count": 11,
   "metadata": {},
   "outputs": [
    {
     "output_type": "execute_result",
     "data": {
      "text/plain": "0        0\n1        0\n2        0\n3        0\n4        1\n        ..\n10117    0\n10118    0\n10119    0\n10120    1\n10121    0\nName: IS_LOST, Length: 10122, dtype: int64"
     },
     "metadata": {},
     "execution_count": 11
    }
   ],
   "source": [
    "target"
   ]
  },
  {
   "cell_type": "code",
   "execution_count": 12,
   "metadata": {
    "tags": []
   },
   "outputs": [
    {
     "output_type": "stream",
     "name": "stdout",
     "text": "<class 'pandas.core.frame.DataFrame'>\nRangeIndex: 10122 entries, 0 to 10121\nData columns (total 13 columns):\n #   Column                Non-Null Count  Dtype  \n---  ------                --------------  -----  \n 0   CUST_SEX              10122 non-null  int64  \n 1   CUST_AGE              10122 non-null  int64  \n 2   BUYERPART             10122 non-null  int64  \n 3   CAR_AGE               10122 non-null  int64  \n 4   CAR_PRICE             10122 non-null  int64  \n 5   IS_LOAN               10122 non-null  float64\n 6   LOAN_PERIED           10122 non-null  float64\n 7   LOAN_AMOUNT           10122 non-null  int64  \n 8   F_INSORNOT            10122 non-null  float64\n 9   ALL_BUYINS_N          10122 non-null  float64\n 10  DLRSI_CNT             10122 non-null  float64\n 11  GLASSBUYSEPARATE_CNT  10122 non-null  float64\n 12  SII_CNT               10122 non-null  float64\ndtypes: float64(7), int64(6)\nmemory usage: 1.0 MB\n"
    }
   ],
   "source": [
    "data.info()"
   ]
  },
  {
   "cell_type": "code",
   "execution_count": 22,
   "metadata": {
    "tags": []
   },
   "outputs": [
    {
     "output_type": "stream",
     "name": "stdout",
     "text": "准确率: 0.7806757557794902\n"
    }
   ],
   "source": [
    "dtc = DTC(criterion='entropy',max_depth=4, max_leaf_nodes=5)\n",
    "dtc.fit(data, target)\n",
    "print('准确率:', dtc.score(data, target))\n"
   ]
  },
  {
   "cell_type": "code",
   "execution_count": 24,
   "metadata": {},
   "outputs": [
    {
     "output_type": "error",
     "ename": "InvocationException",
     "evalue": "GraphViz's executables not found",
     "traceback": [
      "\u001b[1;31m---------------------------------------------------------------------------\u001b[0m",
      "\u001b[1;31mInvocationException\u001b[0m                       Traceback (most recent call last)",
      "\u001b[1;32m<ipython-input-24-521262211b24>\u001b[0m in \u001b[0;36m<module>\u001b[1;34m\u001b[0m\n\u001b[0;32m      3\u001b[0m                          special_characters=True)  \n\u001b[0;32m      4\u001b[0m \u001b[0mgraph\u001b[0m \u001b[1;33m=\u001b[0m \u001b[0mpydotplus\u001b[0m\u001b[1;33m.\u001b[0m\u001b[0mgraph_from_dot_data\u001b[0m\u001b[1;33m(\u001b[0m\u001b[0mdot_data\u001b[0m\u001b[1;33m)\u001b[0m\u001b[1;33m\u001b[0m\u001b[1;33m\u001b[0m\u001b[0m\n\u001b[1;32m----> 5\u001b[1;33m \u001b[0mImage\u001b[0m\u001b[1;33m(\u001b[0m\u001b[0mgraph\u001b[0m\u001b[1;33m.\u001b[0m\u001b[0mcreate_png\u001b[0m\u001b[1;33m(\u001b[0m\u001b[1;33m)\u001b[0m\u001b[1;33m)\u001b[0m\u001b[1;33m\u001b[0m\u001b[1;33m\u001b[0m\u001b[0m\n\u001b[0m",
      "\u001b[1;32md:\\GitHubCode\\TianChiData\\TianchiData\\env\\lib\\site-packages\\pydotplus\\graphviz.py\u001b[0m in \u001b[0;36m<lambda>\u001b[1;34m(f, prog)\u001b[0m\n\u001b[0;32m   1795\u001b[0m             self.__setattr__(\n\u001b[0;32m   1796\u001b[0m                 \u001b[1;34m'create_'\u001b[0m \u001b[1;33m+\u001b[0m \u001b[0mfrmt\u001b[0m\u001b[1;33m,\u001b[0m\u001b[1;33m\u001b[0m\u001b[1;33m\u001b[0m\u001b[0m\n\u001b[1;32m-> 1797\u001b[1;33m                 \u001b[1;32mlambda\u001b[0m \u001b[0mf\u001b[0m\u001b[1;33m=\u001b[0m\u001b[0mfrmt\u001b[0m\u001b[1;33m,\u001b[0m \u001b[0mprog\u001b[0m\u001b[1;33m=\u001b[0m\u001b[0mself\u001b[0m\u001b[1;33m.\u001b[0m\u001b[0mprog\u001b[0m\u001b[1;33m:\u001b[0m \u001b[0mself\u001b[0m\u001b[1;33m.\u001b[0m\u001b[0mcreate\u001b[0m\u001b[1;33m(\u001b[0m\u001b[0mformat\u001b[0m\u001b[1;33m=\u001b[0m\u001b[0mf\u001b[0m\u001b[1;33m,\u001b[0m \u001b[0mprog\u001b[0m\u001b[1;33m=\u001b[0m\u001b[0mprog\u001b[0m\u001b[1;33m)\u001b[0m\u001b[1;33m\u001b[0m\u001b[1;33m\u001b[0m\u001b[0m\n\u001b[0m\u001b[0;32m   1798\u001b[0m             )\n\u001b[0;32m   1799\u001b[0m             \u001b[0mf\u001b[0m \u001b[1;33m=\u001b[0m \u001b[0mself\u001b[0m\u001b[1;33m.\u001b[0m\u001b[0m__dict__\u001b[0m\u001b[1;33m[\u001b[0m\u001b[1;34m'create_'\u001b[0m \u001b[1;33m+\u001b[0m \u001b[0mfrmt\u001b[0m\u001b[1;33m]\u001b[0m\u001b[1;33m\u001b[0m\u001b[1;33m\u001b[0m\u001b[0m\n",
      "\u001b[1;32md:\\GitHubCode\\TianChiData\\TianchiData\\env\\lib\\site-packages\\pydotplus\\graphviz.py\u001b[0m in \u001b[0;36mcreate\u001b[1;34m(self, prog, format)\u001b[0m\n\u001b[0;32m   1957\u001b[0m             \u001b[0mself\u001b[0m\u001b[1;33m.\u001b[0m\u001b[0mprogs\u001b[0m \u001b[1;33m=\u001b[0m \u001b[0mfind_graphviz\u001b[0m\u001b[1;33m(\u001b[0m\u001b[1;33m)\u001b[0m\u001b[1;33m\u001b[0m\u001b[1;33m\u001b[0m\u001b[0m\n\u001b[0;32m   1958\u001b[0m             \u001b[1;32mif\u001b[0m \u001b[0mself\u001b[0m\u001b[1;33m.\u001b[0m\u001b[0mprogs\u001b[0m \u001b[1;32mis\u001b[0m \u001b[1;32mNone\u001b[0m\u001b[1;33m:\u001b[0m\u001b[1;33m\u001b[0m\u001b[1;33m\u001b[0m\u001b[0m\n\u001b[1;32m-> 1959\u001b[1;33m                 raise InvocationException(\n\u001b[0m\u001b[0;32m   1960\u001b[0m                     'GraphViz\\'s executables not found')\n\u001b[0;32m   1961\u001b[0m \u001b[1;33m\u001b[0m\u001b[0m\n",
      "\u001b[1;31mInvocationException\u001b[0m: GraphViz's executables not found"
     ]
    }
   ],
   "source": [
    "dot_data = tree.export_graphviz(dtc, out_file=None, \n",
    "                         filled=True, rounded=True,  \n",
    "                         special_characters=True)  \n",
    "graph = pydotplus.graph_from_dot_data(dot_data)  \n",
    "Image(graph.create_png()) "
   ]
  },
  {
   "cell_type": "code",
   "execution_count": 23,
   "metadata": {},
   "outputs": [
    {
     "output_type": "error",
     "ename": "InvocationException",
     "evalue": "GraphViz's executables not found",
     "traceback": [
      "\u001b[1;31m---------------------------------------------------------------------------\u001b[0m",
      "\u001b[1;31mInvocationException\u001b[0m                       Traceback (most recent call last)",
      "\u001b[1;32m<ipython-input-23-94e3d6071569>\u001b[0m in \u001b[0;36m<module>\u001b[1;34m\u001b[0m\n\u001b[0;32m      4\u001b[0m     \u001b[0mf\u001b[0m \u001b[1;33m=\u001b[0m \u001b[0mexport_graphviz\u001b[0m\u001b[1;33m(\u001b[0m\u001b[0mdtc\u001b[0m\u001b[1;33m,\u001b[0m \u001b[0mfeature_names\u001b[0m\u001b[1;33m=\u001b[0m\u001b[0mdata\u001b[0m\u001b[1;33m.\u001b[0m\u001b[0mcolumns\u001b[0m\u001b[1;33m,\u001b[0m \u001b[0mout_file\u001b[0m\u001b[1;33m=\u001b[0m\u001b[0mf\u001b[0m\u001b[1;33m)\u001b[0m\u001b[1;33m\u001b[0m\u001b[1;33m\u001b[0m\u001b[0m\n\u001b[0;32m      5\u001b[0m \u001b[0mgraph\u001b[0m \u001b[1;33m=\u001b[0m \u001b[0mpydotplus\u001b[0m\u001b[1;33m.\u001b[0m\u001b[0mgraph_from_dot_file\u001b[0m\u001b[1;33m(\u001b[0m\u001b[1;34m'./tree.dot'\u001b[0m\u001b[1;33m)\u001b[0m\u001b[1;33m\u001b[0m\u001b[1;33m\u001b[0m\u001b[0m\n\u001b[1;32m----> 6\u001b[1;33m \u001b[0mgraph\u001b[0m\u001b[1;33m.\u001b[0m\u001b[0mwrite_pdf\u001b[0m\u001b[1;33m(\u001b[0m\u001b[1;34m\"iris.pdf\"\u001b[0m\u001b[1;33m)\u001b[0m\u001b[1;33m\u001b[0m\u001b[1;33m\u001b[0m\u001b[0m\n\u001b[0m",
      "\u001b[1;32md:\\GitHubCode\\TianChiData\\TianchiData\\env\\lib\\site-packages\\pydotplus\\graphviz.py\u001b[0m in \u001b[0;36m<lambda>\u001b[1;34m(path, f, prog)\u001b[0m\n\u001b[0;32m   1808\u001b[0m                 \u001b[1;32mlambda\u001b[0m \u001b[0mpath\u001b[0m\u001b[1;33m,\u001b[0m\u001b[1;33m\u001b[0m\u001b[1;33m\u001b[0m\u001b[0m\n\u001b[0;32m   1809\u001b[0m                 \u001b[0mf\u001b[0m\u001b[1;33m=\u001b[0m\u001b[0mfrmt\u001b[0m\u001b[1;33m,\u001b[0m\u001b[1;33m\u001b[0m\u001b[1;33m\u001b[0m\u001b[0m\n\u001b[1;32m-> 1810\u001b[1;33m                 \u001b[0mprog\u001b[0m\u001b[1;33m=\u001b[0m\u001b[0mself\u001b[0m\u001b[1;33m.\u001b[0m\u001b[0mprog\u001b[0m\u001b[1;33m:\u001b[0m \u001b[0mself\u001b[0m\u001b[1;33m.\u001b[0m\u001b[0mwrite\u001b[0m\u001b[1;33m(\u001b[0m\u001b[0mpath\u001b[0m\u001b[1;33m,\u001b[0m \u001b[0mformat\u001b[0m\u001b[1;33m=\u001b[0m\u001b[0mf\u001b[0m\u001b[1;33m,\u001b[0m \u001b[0mprog\u001b[0m\u001b[1;33m=\u001b[0m\u001b[0mprog\u001b[0m\u001b[1;33m)\u001b[0m\u001b[1;33m\u001b[0m\u001b[1;33m\u001b[0m\u001b[0m\n\u001b[0m\u001b[0;32m   1811\u001b[0m             )\n\u001b[0;32m   1812\u001b[0m \u001b[1;33m\u001b[0m\u001b[0m\n",
      "\u001b[1;32md:\\GitHubCode\\TianChiData\\TianchiData\\env\\lib\\site-packages\\pydotplus\\graphviz.py\u001b[0m in \u001b[0;36mwrite\u001b[1;34m(self, path, prog, format)\u001b[0m\n\u001b[0;32m   1916\u001b[0m \u001b[1;33m\u001b[0m\u001b[0m\n\u001b[0;32m   1917\u001b[0m             \u001b[1;32melse\u001b[0m\u001b[1;33m:\u001b[0m\u001b[1;33m\u001b[0m\u001b[1;33m\u001b[0m\u001b[0m\n\u001b[1;32m-> 1918\u001b[1;33m                 \u001b[0mfobj\u001b[0m\u001b[1;33m.\u001b[0m\u001b[0mwrite\u001b[0m\u001b[1;33m(\u001b[0m\u001b[0mself\u001b[0m\u001b[1;33m.\u001b[0m\u001b[0mcreate\u001b[0m\u001b[1;33m(\u001b[0m\u001b[0mprog\u001b[0m\u001b[1;33m,\u001b[0m \u001b[0mformat\u001b[0m\u001b[1;33m)\u001b[0m\u001b[1;33m)\u001b[0m\u001b[1;33m\u001b[0m\u001b[1;33m\u001b[0m\u001b[0m\n\u001b[0m\u001b[0;32m   1919\u001b[0m         \u001b[1;32mfinally\u001b[0m\u001b[1;33m:\u001b[0m\u001b[1;33m\u001b[0m\u001b[1;33m\u001b[0m\u001b[0m\n\u001b[0;32m   1920\u001b[0m             \u001b[1;32mif\u001b[0m \u001b[0mclose\u001b[0m\u001b[1;33m:\u001b[0m\u001b[1;33m\u001b[0m\u001b[1;33m\u001b[0m\u001b[0m\n",
      "\u001b[1;32md:\\GitHubCode\\TianChiData\\TianchiData\\env\\lib\\site-packages\\pydotplus\\graphviz.py\u001b[0m in \u001b[0;36mcreate\u001b[1;34m(self, prog, format)\u001b[0m\n\u001b[0;32m   1957\u001b[0m             \u001b[0mself\u001b[0m\u001b[1;33m.\u001b[0m\u001b[0mprogs\u001b[0m \u001b[1;33m=\u001b[0m \u001b[0mfind_graphviz\u001b[0m\u001b[1;33m(\u001b[0m\u001b[1;33m)\u001b[0m\u001b[1;33m\u001b[0m\u001b[1;33m\u001b[0m\u001b[0m\n\u001b[0;32m   1958\u001b[0m             \u001b[1;32mif\u001b[0m \u001b[0mself\u001b[0m\u001b[1;33m.\u001b[0m\u001b[0mprogs\u001b[0m \u001b[1;32mis\u001b[0m \u001b[1;32mNone\u001b[0m\u001b[1;33m:\u001b[0m\u001b[1;33m\u001b[0m\u001b[1;33m\u001b[0m\u001b[0m\n\u001b[1;32m-> 1959\u001b[1;33m                 raise InvocationException(\n\u001b[0m\u001b[0;32m   1960\u001b[0m                     'GraphViz\\'s executables not found')\n\u001b[0;32m   1961\u001b[0m \u001b[1;33m\u001b[0m\u001b[0m\n",
      "\u001b[1;31mInvocationException\u001b[0m: GraphViz's executables not found"
     ]
    }
   ],
   "source": [
    "import pydot\n",
    "import pydotplus\n",
    "with open('./tree.dot', 'w') as f:\n",
    "    f = export_graphviz(dtc, feature_names=data.columns, out_file=f)\n",
    "graph = pydotplus.graph_from_dot_file('./tree.dot')\n",
    "graph.write_pdf(\"iris.pdf\")"
   ]
  },
  {
   "cell_type": "code",
   "execution_count": null,
   "metadata": {},
   "outputs": [],
   "source": []
  }
 ],
 "metadata": {
  "kernelspec": {
   "display_name": "Python 3.8.0 32-bit ('env': venv)",
   "language": "python",
   "name": "python_defaultSpec_1595402033300"
  },
  "language_info": {
   "codemirror_mode": {
    "name": "ipython",
    "version": 3
   },
   "file_extension": ".py",
   "mimetype": "text/x-python",
   "name": "python",
   "nbconvert_exporter": "python",
   "pygments_lexer": "ipython3",
   "version": "3.8.2-final"
  }
 },
 "nbformat": 4,
 "nbformat_minor": 2
}