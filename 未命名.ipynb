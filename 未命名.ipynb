{
 "cells": [
  {
   "cell_type": "code",
   "execution_count": 1,
   "metadata": {},
   "outputs": [],
   "source": [
    "import numpy as np\n",
    "import pandas as pd\n",
    "\n",
    "import matplotlib\n",
    "import matplotlib.pyplot as plt\n",
    "from sklearn.tree import DecisionTreeClassifier as DTC, export_graphviz\n",
    "import pydot\n",
    "import pydotplus\n",
    "\n",
    "import time"
   ]
  },
  {
   "cell_type": "code",
   "execution_count": 2,
   "metadata": {
    "tags": []
   },
   "outputs": [
    {
     "output_type": "stream",
     "name": "stdout",
     "text": "<class 'pandas.core.frame.DataFrame'>\nRangeIndex: 46444 entries, 0 to 46443\nData columns (total 17 columns):\nCUST_ID                 46444 non-null object\nCUST_SEX                46444 non-null int64\nCUST_AGE                46444 non-null float64\nCUST_MARRY              11018 non-null object\nBUYERPART               46444 non-null int64\nCAR_MODEL               46444 non-null object\nCAR_AGE                 46444 non-null float64\nCAR_PRICE               46444 non-null float64\nIS_LOAN                 46444 non-null float64\nLOAN_PERIED             46444 non-null int64\nLOAN_AMOUNT             46444 non-null float64\nF_INSORNOT              46444 non-null float64\nALL_BUYINS_N            46444 non-null float64\nDLRSI_CNT               46444 non-null float64\nGLASSBUYSEPARATE_CNT    46444 non-null float64\nSII_CNT                 46444 non-null float64\nIS_LOST                 46444 non-null int64\ndtypes: float64(10), int64(4), object(3)\nmemory usage: 5.5+ MB\n"
    }
   ],
   "source": [
    "Train_data = pd.read_csv('./data/car_info_train.csv')\n",
    "Train_data.info()\n"
   ]
  },
  {
   "cell_type": "code",
   "execution_count": 3,
   "metadata": {
    "tags": []
   },
   "outputs": [
    {
     "output_type": "stream",
     "name": "stdout",
     "text": "Index(['CUST_SEX', 'CUST_AGE', 'BUYERPART', 'CAR_AGE', 'CAR_PRICE', 'IS_LOAN',\n       'LOAN_PERIED', 'LOAN_AMOUNT', 'F_INSORNOT', 'ALL_BUYINS_N', 'DLRSI_CNT',\n       'GLASSBUYSEPARATE_CNT', 'SII_CNT', 'IS_LOST'],\n      dtype='object')\n"
    }
   ],
   "source": [
    "numerical_cols = Train_data.select_dtypes(exclude = 'object').columns\n",
    "print(numerical_cols)"
   ]
  },
  {
   "cell_type": "code",
   "execution_count": 4,
   "metadata": {},
   "outputs": [],
   "source": [
    "Train_data['CUST_AGE'] = pd.qcut(Train_data.CUST_AGE, 3, labels=[\"1\", \"2\", \"3\"])\n",
    "Train_data['CAR_AGE'] = pd.qcut(Train_data.CAR_AGE, 5, labels=[\"1\", \"2\", \"3\", \"4\", \"5\"])\n",
    "Train_data['CAR_PRICE'] = pd.qcut(Train_data.CAR_PRICE, 4, labels=[\"1\", \"2\", \"3\", \"4\"])\n",
    "Train_data['LOAN_AMOUNT'] = pd.qcut(Train_data.LOAN_AMOUNT, 4, labels=[\"1\", \"2\", \"3\", \"4\"])"
   ]
  },
  {
   "cell_type": "code",
   "execution_count": 5,
   "metadata": {},
   "outputs": [
    {
     "output_type": "execute_result",
     "data": {
      "text/plain": "                            CUST_ID  CUST_SEX CUST_AGE CUST_MARRY  BUYERPART  \\\n0  49BB37423D72EAABEF899EF02488F30C         2        1        NaN          1   \n1  303CC4F388283ABF7BADB6EF81D3D812         1        1        NaN          1   \n2  5DCFA06D1A001B1E2F3095B097B2A452         1        3         已婚          1   \n3  8B1284CF18DEA31A8C14A5A3554E50DC         1        3        NaN          1   \n4  FCD67DC870371A98FE382852328086BD         2        1         已婚          1   \n\n  CAR_MODEL CAR_AGE CAR_PRICE  IS_LOAN  LOAN_PERIED LOAN_AMOUNT  F_INSORNOT  \\\n0       车型2       1         3      1.0            5           3         1.0   \n1       车型2       1         3      1.0            4           3         1.0   \n2       车型2       1         3      1.0            5           3         1.0   \n3       车型2       1         2      1.0            4           3         1.0   \n4       车型2       1         3      1.0            4           2         1.0   \n\n   ALL_BUYINS_N  DLRSI_CNT  GLASSBUYSEPARATE_CNT  SII_CNT  IS_LOST  \n0           1.0        0.0                   0.0      0.0        0  \n1           2.0        0.0                   0.0      0.0        0  \n2           1.0        0.0                   1.0      0.0        0  \n3           2.0        1.0                   0.0      0.0        0  \n4           2.0        0.0                   0.0      0.0        0  ",
      "text/html": "<div>\n<style scoped>\n    .dataframe tbody tr th:only-of-type {\n        vertical-align: middle;\n    }\n\n    .dataframe tbody tr th {\n        vertical-align: top;\n    }\n\n    .dataframe thead th {\n        text-align: right;\n    }\n</style>\n<table border=\"1\" class=\"dataframe\">\n  <thead>\n    <tr style=\"text-align: right;\">\n      <th></th>\n      <th>CUST_ID</th>\n      <th>CUST_SEX</th>\n      <th>CUST_AGE</th>\n      <th>CUST_MARRY</th>\n      <th>BUYERPART</th>\n      <th>CAR_MODEL</th>\n      <th>CAR_AGE</th>\n      <th>CAR_PRICE</th>\n      <th>IS_LOAN</th>\n      <th>LOAN_PERIED</th>\n      <th>LOAN_AMOUNT</th>\n      <th>F_INSORNOT</th>\n      <th>ALL_BUYINS_N</th>\n      <th>DLRSI_CNT</th>\n      <th>GLASSBUYSEPARATE_CNT</th>\n      <th>SII_CNT</th>\n      <th>IS_LOST</th>\n    </tr>\n  </thead>\n  <tbody>\n    <tr>\n      <th>0</th>\n      <td>49BB37423D72EAABEF899EF02488F30C</td>\n      <td>2</td>\n      <td>1</td>\n      <td>NaN</td>\n      <td>1</td>\n      <td>车型2</td>\n      <td>1</td>\n      <td>3</td>\n      <td>1.0</td>\n      <td>5</td>\n      <td>3</td>\n      <td>1.0</td>\n      <td>1.0</td>\n      <td>0.0</td>\n      <td>0.0</td>\n      <td>0.0</td>\n      <td>0</td>\n    </tr>\n    <tr>\n      <th>1</th>\n      <td>303CC4F388283ABF7BADB6EF81D3D812</td>\n      <td>1</td>\n      <td>1</td>\n      <td>NaN</td>\n      <td>1</td>\n      <td>车型2</td>\n      <td>1</td>\n      <td>3</td>\n      <td>1.0</td>\n      <td>4</td>\n      <td>3</td>\n      <td>1.0</td>\n      <td>2.0</td>\n      <td>0.0</td>\n      <td>0.0</td>\n      <td>0.0</td>\n      <td>0</td>\n    </tr>\n    <tr>\n      <th>2</th>\n      <td>5DCFA06D1A001B1E2F3095B097B2A452</td>\n      <td>1</td>\n      <td>3</td>\n      <td>已婚</td>\n      <td>1</td>\n      <td>车型2</td>\n      <td>1</td>\n      <td>3</td>\n      <td>1.0</td>\n      <td>5</td>\n      <td>3</td>\n      <td>1.0</td>\n      <td>1.0</td>\n      <td>0.0</td>\n      <td>1.0</td>\n      <td>0.0</td>\n      <td>0</td>\n    </tr>\n    <tr>\n      <th>3</th>\n      <td>8B1284CF18DEA31A8C14A5A3554E50DC</td>\n      <td>1</td>\n      <td>3</td>\n      <td>NaN</td>\n      <td>1</td>\n      <td>车型2</td>\n      <td>1</td>\n      <td>2</td>\n      <td>1.0</td>\n      <td>4</td>\n      <td>3</td>\n      <td>1.0</td>\n      <td>2.0</td>\n      <td>1.0</td>\n      <td>0.0</td>\n      <td>0.0</td>\n      <td>0</td>\n    </tr>\n    <tr>\n      <th>4</th>\n      <td>FCD67DC870371A98FE382852328086BD</td>\n      <td>2</td>\n      <td>1</td>\n      <td>已婚</td>\n      <td>1</td>\n      <td>车型2</td>\n      <td>1</td>\n      <td>3</td>\n      <td>1.0</td>\n      <td>4</td>\n      <td>2</td>\n      <td>1.0</td>\n      <td>2.0</td>\n      <td>0.0</td>\n      <td>0.0</td>\n      <td>0.0</td>\n      <td>0</td>\n    </tr>\n  </tbody>\n</table>\n</div>"
     },
     "metadata": {},
     "execution_count": 5
    }
   ],
   "source": [
    "Train_data.head()"
   ]
  },
  {
   "cell_type": "code",
   "execution_count": 6,
   "metadata": {},
   "outputs": [
    {
     "output_type": "execute_result",
     "data": {
      "text/plain": "CUST_ID                 False\nCUST_SEX                False\nCUST_AGE                False\nCUST_MARRY               True\nBUYERPART               False\nCAR_MODEL               False\nCAR_AGE                 False\nCAR_PRICE               False\nIS_LOAN                 False\nLOAN_PERIED             False\nLOAN_AMOUNT             False\nF_INSORNOT              False\nALL_BUYINS_N            False\nDLRSI_CNT               False\nGLASSBUYSEPARATE_CNT    False\nSII_CNT                 False\nIS_LOST                 False\ndtype: bool"
     },
     "metadata": {},
     "execution_count": 6
    }
   ],
   "source": [
    "Train_data.isnull().any()"
   ]
  },
  {
   "cell_type": "code",
   "execution_count": 7,
   "metadata": {
    "tags": []
   },
   "outputs": [
    {
     "output_type": "execute_result",
     "data": {
      "text/plain": "       CUST_SEX CUST_AGE  BUYERPART CAR_AGE CAR_PRICE  IS_LOAN  LOAN_PERIED  \\\n0             2        1          1       1         3      1.0            5   \n1             1        1          1       1         3      1.0            4   \n2             1        3          1       1         3      1.0            5   \n3             1        3          1       1         2      1.0            4   \n4             2        1          1       1         3      1.0            4   \n...         ...      ...        ...     ...       ...      ...          ...   \n46439         2        2          1       5         3      1.0            4   \n46440         1        2          1       5         3      1.0            5   \n46441         1        2          1       5         3      1.0            5   \n46442         1        3          2       5         3      1.0            5   \n46443         1        3          1       5         3      1.0            3   \n\n      LOAN_AMOUNT  F_INSORNOT  ALL_BUYINS_N  DLRSI_CNT  GLASSBUYSEPARATE_CNT  \\\n0               3         1.0           1.0        0.0                   0.0   \n1               3         1.0           2.0        0.0                   0.0   \n2               3         1.0           1.0        0.0                   1.0   \n3               3         1.0           2.0        1.0                   0.0   \n4               2         1.0           2.0        0.0                   0.0   \n...           ...         ...           ...        ...                   ...   \n46439           4         1.0           2.0        0.0                   1.0   \n46440           4         0.0           1.0        0.0                   1.0   \n46441           4         1.0           1.0        1.0                   1.0   \n46442           4         1.0           4.0        1.0                   1.0   \n46443           3         1.0           1.0        0.0                   1.0   \n\n       SII_CNT  \n0          0.0  \n1          0.0  \n2          0.0  \n3          0.0  \n4          0.0  \n...        ...  \n46439      0.0  \n46440      0.0  \n46441      0.0  \n46442      0.0  \n46443      0.0  \n\n[46444 rows x 13 columns]",
      "text/html": "<div>\n<style scoped>\n    .dataframe tbody tr th:only-of-type {\n        vertical-align: middle;\n    }\n\n    .dataframe tbody tr th {\n        vertical-align: top;\n    }\n\n    .dataframe thead th {\n        text-align: right;\n    }\n</style>\n<table border=\"1\" class=\"dataframe\">\n  <thead>\n    <tr style=\"text-align: right;\">\n      <th></th>\n      <th>CUST_SEX</th>\n      <th>CUST_AGE</th>\n      <th>BUYERPART</th>\n      <th>CAR_AGE</th>\n      <th>CAR_PRICE</th>\n      <th>IS_LOAN</th>\n      <th>LOAN_PERIED</th>\n      <th>LOAN_AMOUNT</th>\n      <th>F_INSORNOT</th>\n      <th>ALL_BUYINS_N</th>\n      <th>DLRSI_CNT</th>\n      <th>GLASSBUYSEPARATE_CNT</th>\n      <th>SII_CNT</th>\n    </tr>\n  </thead>\n  <tbody>\n    <tr>\n      <th>0</th>\n      <td>2</td>\n      <td>1</td>\n      <td>1</td>\n      <td>1</td>\n      <td>3</td>\n      <td>1.0</td>\n      <td>5</td>\n      <td>3</td>\n      <td>1.0</td>\n      <td>1.0</td>\n      <td>0.0</td>\n      <td>0.0</td>\n      <td>0.0</td>\n    </tr>\n    <tr>\n      <th>1</th>\n      <td>1</td>\n      <td>1</td>\n      <td>1</td>\n      <td>1</td>\n      <td>3</td>\n      <td>1.0</td>\n      <td>4</td>\n      <td>3</td>\n      <td>1.0</td>\n      <td>2.0</td>\n      <td>0.0</td>\n      <td>0.0</td>\n      <td>0.0</td>\n    </tr>\n    <tr>\n      <th>2</th>\n      <td>1</td>\n      <td>3</td>\n      <td>1</td>\n      <td>1</td>\n      <td>3</td>\n      <td>1.0</td>\n      <td>5</td>\n      <td>3</td>\n      <td>1.0</td>\n      <td>1.0</td>\n      <td>0.0</td>\n      <td>1.0</td>\n      <td>0.0</td>\n    </tr>\n    <tr>\n      <th>3</th>\n      <td>1</td>\n      <td>3</td>\n      <td>1</td>\n      <td>1</td>\n      <td>2</td>\n      <td>1.0</td>\n      <td>4</td>\n      <td>3</td>\n      <td>1.0</td>\n      <td>2.0</td>\n      <td>1.0</td>\n      <td>0.0</td>\n      <td>0.0</td>\n    </tr>\n    <tr>\n      <th>4</th>\n      <td>2</td>\n      <td>1</td>\n      <td>1</td>\n      <td>1</td>\n      <td>3</td>\n      <td>1.0</td>\n      <td>4</td>\n      <td>2</td>\n      <td>1.0</td>\n      <td>2.0</td>\n      <td>0.0</td>\n      <td>0.0</td>\n      <td>0.0</td>\n    </tr>\n    <tr>\n      <th>...</th>\n      <td>...</td>\n      <td>...</td>\n      <td>...</td>\n      <td>...</td>\n      <td>...</td>\n      <td>...</td>\n      <td>...</td>\n      <td>...</td>\n      <td>...</td>\n      <td>...</td>\n      <td>...</td>\n      <td>...</td>\n      <td>...</td>\n    </tr>\n    <tr>\n      <th>46439</th>\n      <td>2</td>\n      <td>2</td>\n      <td>1</td>\n      <td>5</td>\n      <td>3</td>\n      <td>1.0</td>\n      <td>4</td>\n      <td>4</td>\n      <td>1.0</td>\n      <td>2.0</td>\n      <td>0.0</td>\n      <td>1.0</td>\n      <td>0.0</td>\n    </tr>\n    <tr>\n      <th>46440</th>\n      <td>1</td>\n      <td>2</td>\n      <td>1</td>\n      <td>5</td>\n      <td>3</td>\n      <td>1.0</td>\n      <td>5</td>\n      <td>4</td>\n      <td>0.0</td>\n      <td>1.0</td>\n      <td>0.0</td>\n      <td>1.0</td>\n      <td>0.0</td>\n    </tr>\n    <tr>\n      <th>46441</th>\n      <td>1</td>\n      <td>2</td>\n      <td>1</td>\n      <td>5</td>\n      <td>3</td>\n      <td>1.0</td>\n      <td>5</td>\n      <td>4</td>\n      <td>1.0</td>\n      <td>1.0</td>\n      <td>1.0</td>\n      <td>1.0</td>\n      <td>0.0</td>\n    </tr>\n    <tr>\n      <th>46442</th>\n      <td>1</td>\n      <td>3</td>\n      <td>2</td>\n      <td>5</td>\n      <td>3</td>\n      <td>1.0</td>\n      <td>5</td>\n      <td>4</td>\n      <td>1.0</td>\n      <td>4.0</td>\n      <td>1.0</td>\n      <td>1.0</td>\n      <td>0.0</td>\n    </tr>\n    <tr>\n      <th>46443</th>\n      <td>1</td>\n      <td>3</td>\n      <td>1</td>\n      <td>5</td>\n      <td>3</td>\n      <td>1.0</td>\n      <td>3</td>\n      <td>3</td>\n      <td>1.0</td>\n      <td>1.0</td>\n      <td>0.0</td>\n      <td>1.0</td>\n      <td>0.0</td>\n    </tr>\n  </tbody>\n</table>\n<p>46444 rows × 13 columns</p>\n</div>"
     },
     "metadata": {},
     "execution_count": 7
    }
   ],
   "source": [
    "feature_cols = [col for col in numerical_cols if col != 'IS_LOST']\n",
    "X_data = Train_data[feature_cols]\n",
    "Y_data = Train_data['IS_LOST']\n",
    "X_data\n"
   ]
  },
  {
   "cell_type": "code",
   "execution_count": 8,
   "metadata": {
    "tags": []
   },
   "outputs": [
    {
     "output_type": "stream",
     "name": "stdout",
     "text": "准确率: 0.8581732839548704\n"
    }
   ],
   "source": [
    "dtc = DTC(criterion='entropy')\n",
    "dtc.fit(X_data, Y_data)\n",
    "print('准确率:', dtc.score(X_data, Y_data))\n",
    "with open('./tree.dot', 'w') as f:\n",
    "    f = export_graphviz(dtc, feature_names=X_data.columns, out_file=f)"
   ]
  },
  {
   "cell_type": "code",
   "execution_count": 9,
   "metadata": {},
   "outputs": [
    {
     "output_type": "error",
     "ename": "InvocationException",
     "evalue": "GraphViz's executables not found",
     "traceback": [
      "\u001b[1;31m---------------------------------------------------------------------------\u001b[0m",
      "\u001b[1;31mInvocationException\u001b[0m                       Traceback (most recent call last)",
      "\u001b[1;32m<ipython-input-9-c776b3b2f0ad>\u001b[0m in \u001b[0;36m<module>\u001b[1;34m\u001b[0m\n\u001b[0;32m      2\u001b[0m \u001b[1;32mimport\u001b[0m \u001b[0mpydotplus\u001b[0m\u001b[1;33m\u001b[0m\u001b[1;33m\u001b[0m\u001b[0m\n\u001b[0;32m      3\u001b[0m \u001b[0mgraph\u001b[0m \u001b[1;33m=\u001b[0m \u001b[0mpydotplus\u001b[0m\u001b[1;33m.\u001b[0m\u001b[0mgraph_from_dot_file\u001b[0m\u001b[1;33m(\u001b[0m\u001b[1;34m'./tree.dot'\u001b[0m\u001b[1;33m)\u001b[0m\u001b[1;33m\u001b[0m\u001b[1;33m\u001b[0m\u001b[0m\n\u001b[1;32m----> 4\u001b[1;33m \u001b[0mgraph\u001b[0m\u001b[1;33m.\u001b[0m\u001b[0mwrite_pdf\u001b[0m\u001b[1;33m(\u001b[0m\u001b[1;34m'./out.pdf'\u001b[0m\u001b[1;33m)\u001b[0m\u001b[1;33m\u001b[0m\u001b[1;33m\u001b[0m\u001b[0m\n\u001b[0m",
      "\u001b[1;32mc:\\Users\\63164\\Desktop\\fralychen\\env\\lib\\site-packages\\pydotplus\\graphviz.py\u001b[0m in \u001b[0;36m<lambda>\u001b[1;34m(path, f, prog)\u001b[0m\n\u001b[0;32m   1808\u001b[0m                 \u001b[1;32mlambda\u001b[0m \u001b[0mpath\u001b[0m\u001b[1;33m,\u001b[0m\u001b[1;33m\u001b[0m\u001b[1;33m\u001b[0m\u001b[0m\n\u001b[0;32m   1809\u001b[0m                 \u001b[0mf\u001b[0m\u001b[1;33m=\u001b[0m\u001b[0mfrmt\u001b[0m\u001b[1;33m,\u001b[0m\u001b[1;33m\u001b[0m\u001b[1;33m\u001b[0m\u001b[0m\n\u001b[1;32m-> 1810\u001b[1;33m                 \u001b[0mprog\u001b[0m\u001b[1;33m=\u001b[0m\u001b[0mself\u001b[0m\u001b[1;33m.\u001b[0m\u001b[0mprog\u001b[0m\u001b[1;33m:\u001b[0m \u001b[0mself\u001b[0m\u001b[1;33m.\u001b[0m\u001b[0mwrite\u001b[0m\u001b[1;33m(\u001b[0m\u001b[0mpath\u001b[0m\u001b[1;33m,\u001b[0m \u001b[0mformat\u001b[0m\u001b[1;33m=\u001b[0m\u001b[0mf\u001b[0m\u001b[1;33m,\u001b[0m \u001b[0mprog\u001b[0m\u001b[1;33m=\u001b[0m\u001b[0mprog\u001b[0m\u001b[1;33m)\u001b[0m\u001b[1;33m\u001b[0m\u001b[1;33m\u001b[0m\u001b[0m\n\u001b[0m\u001b[0;32m   1811\u001b[0m             )\n\u001b[0;32m   1812\u001b[0m \u001b[1;33m\u001b[0m\u001b[0m\n",
      "\u001b[1;32mc:\\Users\\63164\\Desktop\\fralychen\\env\\lib\\site-packages\\pydotplus\\graphviz.py\u001b[0m in \u001b[0;36mwrite\u001b[1;34m(self, path, prog, format)\u001b[0m\n\u001b[0;32m   1916\u001b[0m \u001b[1;33m\u001b[0m\u001b[0m\n\u001b[0;32m   1917\u001b[0m             \u001b[1;32melse\u001b[0m\u001b[1;33m:\u001b[0m\u001b[1;33m\u001b[0m\u001b[1;33m\u001b[0m\u001b[0m\n\u001b[1;32m-> 1918\u001b[1;33m                 \u001b[0mfobj\u001b[0m\u001b[1;33m.\u001b[0m\u001b[0mwrite\u001b[0m\u001b[1;33m(\u001b[0m\u001b[0mself\u001b[0m\u001b[1;33m.\u001b[0m\u001b[0mcreate\u001b[0m\u001b[1;33m(\u001b[0m\u001b[0mprog\u001b[0m\u001b[1;33m,\u001b[0m \u001b[0mformat\u001b[0m\u001b[1;33m)\u001b[0m\u001b[1;33m)\u001b[0m\u001b[1;33m\u001b[0m\u001b[1;33m\u001b[0m\u001b[0m\n\u001b[0m\u001b[0;32m   1919\u001b[0m         \u001b[1;32mfinally\u001b[0m\u001b[1;33m:\u001b[0m\u001b[1;33m\u001b[0m\u001b[1;33m\u001b[0m\u001b[0m\n\u001b[0;32m   1920\u001b[0m             \u001b[1;32mif\u001b[0m \u001b[0mclose\u001b[0m\u001b[1;33m:\u001b[0m\u001b[1;33m\u001b[0m\u001b[1;33m\u001b[0m\u001b[0m\n",
      "\u001b[1;32mc:\\Users\\63164\\Desktop\\fralychen\\env\\lib\\site-packages\\pydotplus\\graphviz.py\u001b[0m in \u001b[0;36mcreate\u001b[1;34m(self, prog, format)\u001b[0m\n\u001b[0;32m   1957\u001b[0m             \u001b[0mself\u001b[0m\u001b[1;33m.\u001b[0m\u001b[0mprogs\u001b[0m \u001b[1;33m=\u001b[0m \u001b[0mfind_graphviz\u001b[0m\u001b[1;33m(\u001b[0m\u001b[1;33m)\u001b[0m\u001b[1;33m\u001b[0m\u001b[1;33m\u001b[0m\u001b[0m\n\u001b[0;32m   1958\u001b[0m             \u001b[1;32mif\u001b[0m \u001b[0mself\u001b[0m\u001b[1;33m.\u001b[0m\u001b[0mprogs\u001b[0m \u001b[1;32mis\u001b[0m \u001b[1;32mNone\u001b[0m\u001b[1;33m:\u001b[0m\u001b[1;33m\u001b[0m\u001b[1;33m\u001b[0m\u001b[0m\n\u001b[1;32m-> 1959\u001b[1;33m                 raise InvocationException(\n\u001b[0m\u001b[0;32m   1960\u001b[0m                     'GraphViz\\'s executables not found')\n\u001b[0;32m   1961\u001b[0m \u001b[1;33m\u001b[0m\u001b[0m\n",
      "\u001b[1;31mInvocationException\u001b[0m: GraphViz's executables not found"
     ]
    }
   ],
   "source": [
    "import pydot\n",
    "import pydotplus\n",
    "graph = pydotplus.graph_from_dot_file('./tree.dot')"
   ]
  },
  {
   "cell_type": "code",
   "execution_count": null,
   "metadata": {},
   "outputs": [],
   "source": []
  }
 ],
 "metadata": {
  "kernelspec": {
   "display_name": "Python 3.8.0 32-bit ('env': venv)",
   "language": "python",
   "name": "python38032bitenvvenva8dce00bf70d418caa2ab6701ffca5c0"
  },
  "language_info": {
   "codemirror_mode": {
    "name": "ipython",
    "version": 3
   },
   "file_extension": ".py",
   "mimetype": "text/x-python",
   "name": "python",
   "nbconvert_exporter": "python",
   "pygments_lexer": "ipython3",
   "version": "3.8.0-final"
  }
 },
 "nbformat": 4,
 "nbformat_minor": 2
}