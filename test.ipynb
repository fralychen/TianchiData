{
 "cells": [
  {
   "cell_type": "code",
   "execution_count": 22,
   "metadata": {},
   "outputs": [],
   "source": [
    "import numpy as np\n",
    "import pandas as pd\n",
    "\n",
    "import matplotlib\n",
    "import matplotlib.pyplot as plt\n",
    "from sklearn import tree\n",
    "from sklearn.tree import DecisionTreeClassifier as DTC, export_graphviz\n",
    "from sklearn.preprocessing import LabelEncoder\n",
    "from collections import defaultdict\n",
    "import pydot\n",
    "import pydotplus\n",
    "import re\n",
    "\n",
    "import time\n",
    "\n",
    "from IPython.display import Image"
   ]
  },
  {
   "cell_type": "code",
   "execution_count": 23,
   "metadata": {
    "tags": []
   },
   "outputs": [
    {
     "output_type": "stream",
     "name": "stdout",
     "text": "<class 'pandas.core.frame.DataFrame'>\nRangeIndex: 51075 entries, 0 to 51074\nData columns (total 18 columns):\n #   Column                Non-Null Count  Dtype  \n---  ------                --------------  -----  \n 0   CUST_ID               51075 non-null  object \n 1   CUST_SEX              51075 non-null  int64  \n 2   CUST_AGE              50600 non-null  float64\n 3   CUST_MARRY            12037 non-null  object \n 4   BUYERPART             51075 non-null  int64  \n 5   CAR_MODEL             51075 non-null  object \n 6   CAR_COLOR             29763 non-null  object \n 7   CAR_AGE               51075 non-null  float64\n 8   CAR_PRICE             51075 non-null  float64\n 9   IS_LOAN               51075 non-null  float64\n 10  LOAN_PERIED           45468 non-null  float64\n 11  LOAN_AMOUNT           45468 non-null  float64\n 12  F_INSORNOT            42924 non-null  float64\n 13  ALL_BUYINS_N          46444 non-null  float64\n 14  DLRSI_CNT             46444 non-null  float64\n 15  GLASSBUYSEPARATE_CNT  46444 non-null  float64\n 16  SII_CNT               46444 non-null  float64\n 17  IS_LOST               51075 non-null  int64  \ndtypes: float64(11), int64(3), object(4)\nmemory usage: 7.0+ MB\n"
    }
   ],
   "source": [
    "Train_data = pd.read_csv('./datalab/car_info_train.csv')\n",
    "Train_data_test = pd.read_csv('./datalab/car_info_test.csv')\n",
    "Train_data.info()"
   ]
  },
  {
   "cell_type": "code",
   "execution_count": 24,
   "metadata": {},
   "outputs": [
    {
     "output_type": "execute_result",
     "data": {
      "text/plain": "                            CUST_ID  CUST_SEX  CUST_AGE CUST_MARRY  BUYERPART  \\\n0  DD1DE01F1C100B840717E038EB73F9D8         2      60.0        NaN          1   \n1  9A718ED5931A03356D534E56FE56868F         1      32.0        NaN          1   \n2  C12942417D044961F0EC732BEC4825FD         1      29.0        NaN          1   \n3  8B7B11D814A68914C94C1C39CF3E704A         1      47.0        NaN          1   \n4  7BA6D4CD559FCE50C5ABBA120EA849C2         1      36.0        NaN          1   \n\n  CAR_MODEL CAR_COLOR  CAR_AGE  CAR_PRICE  IS_LOAN  LOAN_PERIED  LOAN_AMOUNT  \\\n0       车型4      银金属色   2025.0   108800.0      1.0          5.0      60000.0   \n1       车型4      银金属色   1093.0   108800.0      1.0          5.0      75000.0   \n2       车型2      银金属色    947.0   117800.0      1.0          5.0      50000.0   \n3      车型13      珍珠白色    381.0   431800.0      1.0          5.0     140522.4   \n4       车型5        黑色   2210.0   344700.0      1.0          5.0     219000.0   \n\n   F_INSORNOT  ALL_BUYINS_N  DLRSI_CNT  GLASSBUYSEPARATE_CNT  SII_CNT  IS_LOST  \n0         1.0           1.0        1.0                   1.0      0.0        0  \n1         1.0           3.0        0.0                   3.0      3.0        0  \n2         1.0           1.0        1.0                   1.0      1.0        0  \n3         1.0           1.0        0.0                   1.0      0.0        0  \n4         1.0           2.0        1.0                   1.0      0.0        1  ",
      "text/html": "<div>\n<style scoped>\n    .dataframe tbody tr th:only-of-type {\n        vertical-align: middle;\n    }\n\n    .dataframe tbody tr th {\n        vertical-align: top;\n    }\n\n    .dataframe thead th {\n        text-align: right;\n    }\n</style>\n<table border=\"1\" class=\"dataframe\">\n  <thead>\n    <tr style=\"text-align: right;\">\n      <th></th>\n      <th>CUST_ID</th>\n      <th>CUST_SEX</th>\n      <th>CUST_AGE</th>\n      <th>CUST_MARRY</th>\n      <th>BUYERPART</th>\n      <th>CAR_MODEL</th>\n      <th>CAR_COLOR</th>\n      <th>CAR_AGE</th>\n      <th>CAR_PRICE</th>\n      <th>IS_LOAN</th>\n      <th>LOAN_PERIED</th>\n      <th>LOAN_AMOUNT</th>\n      <th>F_INSORNOT</th>\n      <th>ALL_BUYINS_N</th>\n      <th>DLRSI_CNT</th>\n      <th>GLASSBUYSEPARATE_CNT</th>\n      <th>SII_CNT</th>\n      <th>IS_LOST</th>\n    </tr>\n  </thead>\n  <tbody>\n    <tr>\n      <th>0</th>\n      <td>DD1DE01F1C100B840717E038EB73F9D8</td>\n      <td>2</td>\n      <td>60.0</td>\n      <td>NaN</td>\n      <td>1</td>\n      <td>车型4</td>\n      <td>银金属色</td>\n      <td>2025.0</td>\n      <td>108800.0</td>\n      <td>1.0</td>\n      <td>5.0</td>\n      <td>60000.0</td>\n      <td>1.0</td>\n      <td>1.0</td>\n      <td>1.0</td>\n      <td>1.0</td>\n      <td>0.0</td>\n      <td>0</td>\n    </tr>\n    <tr>\n      <th>1</th>\n      <td>9A718ED5931A03356D534E56FE56868F</td>\n      <td>1</td>\n      <td>32.0</td>\n      <td>NaN</td>\n      <td>1</td>\n      <td>车型4</td>\n      <td>银金属色</td>\n      <td>1093.0</td>\n      <td>108800.0</td>\n      <td>1.0</td>\n      <td>5.0</td>\n      <td>75000.0</td>\n      <td>1.0</td>\n      <td>3.0</td>\n      <td>0.0</td>\n      <td>3.0</td>\n      <td>3.0</td>\n      <td>0</td>\n    </tr>\n    <tr>\n      <th>2</th>\n      <td>C12942417D044961F0EC732BEC4825FD</td>\n      <td>1</td>\n      <td>29.0</td>\n      <td>NaN</td>\n      <td>1</td>\n      <td>车型2</td>\n      <td>银金属色</td>\n      <td>947.0</td>\n      <td>117800.0</td>\n      <td>1.0</td>\n      <td>5.0</td>\n      <td>50000.0</td>\n      <td>1.0</td>\n      <td>1.0</td>\n      <td>1.0</td>\n      <td>1.0</td>\n      <td>1.0</td>\n      <td>0</td>\n    </tr>\n    <tr>\n      <th>3</th>\n      <td>8B7B11D814A68914C94C1C39CF3E704A</td>\n      <td>1</td>\n      <td>47.0</td>\n      <td>NaN</td>\n      <td>1</td>\n      <td>车型13</td>\n      <td>珍珠白色</td>\n      <td>381.0</td>\n      <td>431800.0</td>\n      <td>1.0</td>\n      <td>5.0</td>\n      <td>140522.4</td>\n      <td>1.0</td>\n      <td>1.0</td>\n      <td>0.0</td>\n      <td>1.0</td>\n      <td>0.0</td>\n      <td>0</td>\n    </tr>\n    <tr>\n      <th>4</th>\n      <td>7BA6D4CD559FCE50C5ABBA120EA849C2</td>\n      <td>1</td>\n      <td>36.0</td>\n      <td>NaN</td>\n      <td>1</td>\n      <td>车型5</td>\n      <td>黑色</td>\n      <td>2210.0</td>\n      <td>344700.0</td>\n      <td>1.0</td>\n      <td>5.0</td>\n      <td>219000.0</td>\n      <td>1.0</td>\n      <td>2.0</td>\n      <td>1.0</td>\n      <td>1.0</td>\n      <td>0.0</td>\n      <td>1</td>\n    </tr>\n  </tbody>\n</table>\n</div>"
     },
     "metadata": {},
     "execution_count": 24
    }
   ],
   "source": [
    "Train_data_test.head()"
   ]
  },
  {
   "cell_type": "code",
   "execution_count": 25,
   "metadata": {},
   "outputs": [],
   "source": [
    "Train_data['CUST_AGE'] = Train_data.CUST_AGE.fillna(Train_data.CUST_AGE.mean()) #均值填充\n",
    "\n",
    "\n",
    "# 分类\n",
    "Train_data['CUST_AGE'] = Train_data.CUST_AGE.apply(lambda x: 1 if (x<=35 and x >=16) else 2 if (x >= 36 and x <= 60) else 3)\n",
    "Train_data['CAR_AGE'] = Train_data.CAR_AGE.apply(lambda x: 1 if (x <=730) else 2 if (x >=731 and x <= 1460) else 3 if (x >= 1461 and x <= 2190) else 4 if (x >= 2191 and x <= 3650) else 5)\n",
    "Train_data['CAR_PRICE'] = Train_data.CAR_PRICE.apply(lambda x: 1 if (x >=50000 and x <= 90000) else 2 if (x >= 90001 and x<= 150000) else 3 if (x >= 150001 and x <= 300000) else 4)\n",
    "Train_data['LOAN_AMOUNT'] = Train_data.LOAN_AMOUNT.apply(lambda x: 1 if (x <= 50000) else 2 if(x >=50001 and x <= 200000) else 3 if(x >= 200001 and x <= 500000) else 4)\n",
    "\n",
    "Train_data['CAR_MODEL'] = Train_data.CAR_MODEL.apply(lambda x: re.findall('\\d', x)[0]).astype(int) #转换 int\n"
   ]
  },
  {
   "cell_type": "code",
   "execution_count": 26,
   "metadata": {},
   "outputs": [],
   "source": [
    "Train_data_test['CUST_AGE'] = Train_data_test.CUST_AGE.fillna(Train_data.CUST_AGE.mean()) #均值填充\n",
    "\n",
    "\n",
    "# 分类\n",
    "Train_data_test['CUST_AGE'] = Train_data_test.CUST_AGE.apply(lambda x: 1 if (x<=35 and x >=16) else 2 if (x >= 36 and x <= 60) else 3)\n",
    "Train_data_test['CAR_AGE'] = Train_data_test.CAR_AGE.apply(lambda x: 1 if (x <=730) else 2 if (x >=731 and x <= 1460) else 3 if (x >= 1461 and x <= 2190) else 4 if (x >= 2191 and x <= 3650) else 5)\n",
    "Train_data_test['CAR_PRICE'] = Train_data_test.CAR_PRICE.apply(lambda x: 1 if (x >=50000 and x <= 90000) else 2 if (x >= 90001 and x<= 150000) else 3 if (x >= 150001 and x <= 300000) else 4)\n",
    "Train_data_test['LOAN_AMOUNT'] = Train_data_test.LOAN_AMOUNT.apply(lambda x: 1 if (x <= 50000) else 2 if(x >=50001 and x <= 200000) else 3 if(x >= 200001 and x <= 500000) else 4)\n",
    "\n",
    "Train_data_test['CAR_MODEL'] = Train_data_test.CAR_MODEL.apply(lambda x: re.findall('\\d', x)[0]).astype(int)\n"
   ]
  },
  {
   "cell_type": "code",
   "execution_count": 27,
   "metadata": {},
   "outputs": [],
   "source": [
    "numerical_cols_test = Train_data.select_dtypes(exclude = 'object').columns\n",
    "Train_data_test.fillna(value=0,inplace=True)\n",
    "\n",
    "feature_cols_test = [col for col in numerical_cols_test if col != 'IS_LOST']\n",
    "data_test = Train_data_test[feature_cols_test].fillna(value=0)\n",
    "target_test = Train_data_test['IS_LOST']"
   ]
  },
  {
   "cell_type": "code",
   "execution_count": 28,
   "metadata": {
    "tags": []
   },
   "outputs": [
    {
     "output_type": "stream",
     "name": "stdout",
     "text": "Index(['CUST_SEX', 'CUST_AGE', 'BUYERPART', 'CAR_MODEL', 'CAR_AGE',\n       'CAR_PRICE', 'IS_LOAN', 'LOAN_PERIED', 'LOAN_AMOUNT', 'F_INSORNOT',\n       'ALL_BUYINS_N', 'DLRSI_CNT', 'GLASSBUYSEPARATE_CNT', 'SII_CNT',\n       'IS_LOST'],\n      dtype='object')\n"
    }
   ],
   "source": [
    "# 获取数字特征列\n",
    "numerical_cols = Train_data.select_dtypes(exclude = 'object').columns\n",
    "print(numerical_cols)"
   ]
  },
  {
   "cell_type": "code",
   "execution_count": 29,
   "metadata": {},
   "outputs": [
    {
     "output_type": "execute_result",
     "data": {
      "text/plain": "                            CUST_ID  CUST_SEX  CUST_AGE CUST_MARRY  BUYERPART  \\\n0  49BB37423D72EAABEF899EF02488F30C         2         1        NaN          1   \n1  303CC4F388283ABF7BADB6EF81D3D812         1         1        NaN          1   \n2  5DCFA06D1A001B1E2F3095B097B2A452         1         2         已婚          1   \n3  8B1284CF18DEA31A8C14A5A3554E50DC         1         2        NaN          1   \n4  FCD67DC870371A98FE382852328086BD         2         1         已婚          1   \n\n   CAR_MODEL CAR_COLOR  CAR_AGE  CAR_PRICE  IS_LOAN  LOAN_PERIED  LOAN_AMOUNT  \\\n0          2       NaN        1          2      1.0          5.0            2   \n1          2       NaN        1          2      1.0          4.0            2   \n2          2       NaN        1          2      1.0          5.0            2   \n3          2       NaN        1          2      1.0          4.0            2   \n4          2       NaN        1          2      1.0          4.0            1   \n\n   F_INSORNOT  ALL_BUYINS_N  DLRSI_CNT  GLASSBUYSEPARATE_CNT  SII_CNT  IS_LOST  \n0         1.0           1.0        0.0                   0.0      0.0        0  \n1         1.0           2.0        0.0                   0.0      0.0        0  \n2         1.0           1.0        0.0                   1.0      0.0        0  \n3         1.0           2.0        1.0                   0.0      0.0        0  \n4         1.0           2.0        0.0                   0.0      0.0        0  ",
      "text/html": "<div>\n<style scoped>\n    .dataframe tbody tr th:only-of-type {\n        vertical-align: middle;\n    }\n\n    .dataframe tbody tr th {\n        vertical-align: top;\n    }\n\n    .dataframe thead th {\n        text-align: right;\n    }\n</style>\n<table border=\"1\" class=\"dataframe\">\n  <thead>\n    <tr style=\"text-align: right;\">\n      <th></th>\n      <th>CUST_ID</th>\n      <th>CUST_SEX</th>\n      <th>CUST_AGE</th>\n      <th>CUST_MARRY</th>\n      <th>BUYERPART</th>\n      <th>CAR_MODEL</th>\n      <th>CAR_COLOR</th>\n      <th>CAR_AGE</th>\n      <th>CAR_PRICE</th>\n      <th>IS_LOAN</th>\n      <th>LOAN_PERIED</th>\n      <th>LOAN_AMOUNT</th>\n      <th>F_INSORNOT</th>\n      <th>ALL_BUYINS_N</th>\n      <th>DLRSI_CNT</th>\n      <th>GLASSBUYSEPARATE_CNT</th>\n      <th>SII_CNT</th>\n      <th>IS_LOST</th>\n    </tr>\n  </thead>\n  <tbody>\n    <tr>\n      <th>0</th>\n      <td>49BB37423D72EAABEF899EF02488F30C</td>\n      <td>2</td>\n      <td>1</td>\n      <td>NaN</td>\n      <td>1</td>\n      <td>2</td>\n      <td>NaN</td>\n      <td>1</td>\n      <td>2</td>\n      <td>1.0</td>\n      <td>5.0</td>\n      <td>2</td>\n      <td>1.0</td>\n      <td>1.0</td>\n      <td>0.0</td>\n      <td>0.0</td>\n      <td>0.0</td>\n      <td>0</td>\n    </tr>\n    <tr>\n      <th>1</th>\n      <td>303CC4F388283ABF7BADB6EF81D3D812</td>\n      <td>1</td>\n      <td>1</td>\n      <td>NaN</td>\n      <td>1</td>\n      <td>2</td>\n      <td>NaN</td>\n      <td>1</td>\n      <td>2</td>\n      <td>1.0</td>\n      <td>4.0</td>\n      <td>2</td>\n      <td>1.0</td>\n      <td>2.0</td>\n      <td>0.0</td>\n      <td>0.0</td>\n      <td>0.0</td>\n      <td>0</td>\n    </tr>\n    <tr>\n      <th>2</th>\n      <td>5DCFA06D1A001B1E2F3095B097B2A452</td>\n      <td>1</td>\n      <td>2</td>\n      <td>已婚</td>\n      <td>1</td>\n      <td>2</td>\n      <td>NaN</td>\n      <td>1</td>\n      <td>2</td>\n      <td>1.0</td>\n      <td>5.0</td>\n      <td>2</td>\n      <td>1.0</td>\n      <td>1.0</td>\n      <td>0.0</td>\n      <td>1.0</td>\n      <td>0.0</td>\n      <td>0</td>\n    </tr>\n    <tr>\n      <th>3</th>\n      <td>8B1284CF18DEA31A8C14A5A3554E50DC</td>\n      <td>1</td>\n      <td>2</td>\n      <td>NaN</td>\n      <td>1</td>\n      <td>2</td>\n      <td>NaN</td>\n      <td>1</td>\n      <td>2</td>\n      <td>1.0</td>\n      <td>4.0</td>\n      <td>2</td>\n      <td>1.0</td>\n      <td>2.0</td>\n      <td>1.0</td>\n      <td>0.0</td>\n      <td>0.0</td>\n      <td>0</td>\n    </tr>\n    <tr>\n      <th>4</th>\n      <td>FCD67DC870371A98FE382852328086BD</td>\n      <td>2</td>\n      <td>1</td>\n      <td>已婚</td>\n      <td>1</td>\n      <td>2</td>\n      <td>NaN</td>\n      <td>1</td>\n      <td>2</td>\n      <td>1.0</td>\n      <td>4.0</td>\n      <td>1</td>\n      <td>1.0</td>\n      <td>2.0</td>\n      <td>0.0</td>\n      <td>0.0</td>\n      <td>0.0</td>\n      <td>0</td>\n    </tr>\n  </tbody>\n</table>\n</div>"
     },
     "metadata": {},
     "execution_count": 29
    }
   ],
   "source": [
    "Train_data.head()"
   ]
  },
  {
   "cell_type": "code",
   "execution_count": 30,
   "metadata": {},
   "outputs": [],
   "source": [
    "# 空值填充（0）\n",
    "Train_data.fillna(value=0,inplace=True)"
   ]
  },
  {
   "cell_type": "code",
   "execution_count": 31,
   "metadata": {},
   "outputs": [
    {
     "output_type": "execute_result",
     "data": {
      "text/plain": "CUST_ID                 False\nCUST_SEX                False\nCUST_AGE                False\nCUST_MARRY              False\nBUYERPART               False\nCAR_MODEL               False\nCAR_COLOR               False\nCAR_AGE                 False\nCAR_PRICE               False\nIS_LOAN                 False\nLOAN_PERIED             False\nLOAN_AMOUNT             False\nF_INSORNOT              False\nALL_BUYINS_N            False\nDLRSI_CNT               False\nGLASSBUYSEPARATE_CNT    False\nSII_CNT                 False\nIS_LOST                 False\ndtype: bool"
     },
     "metadata": {},
     "execution_count": 31
    }
   ],
   "source": [
    "# 判断空值\n",
    "Train_data.isnull().any()"
   ]
  },
  {
   "cell_type": "code",
   "execution_count": 32,
   "metadata": {
    "tags": []
   },
   "outputs": [
    {
     "output_type": "execute_result",
     "data": {
      "text/plain": "['CUST_SEX',\n 'CUST_AGE',\n 'BUYERPART',\n 'CAR_MODEL',\n 'CAR_AGE',\n 'CAR_PRICE',\n 'IS_LOAN',\n 'LOAN_PERIED',\n 'LOAN_AMOUNT',\n 'F_INSORNOT',\n 'ALL_BUYINS_N',\n 'DLRSI_CNT',\n 'GLASSBUYSEPARATE_CNT',\n 'SII_CNT']"
     },
     "metadata": {},
     "execution_count": 32
    }
   ],
   "source": [
    "feature_cols = [col for col in numerical_cols if col != 'IS_LOST']\n",
    "target_cols = [col for col in numerical_cols if col = 'IS_LOST']\n",
    "data = Train_data[feature_cols].fillna(value=0)\n",
    "target = Train_data['IS_LOST']"
   ]
  },
  {
   "cell_type": "code",
   "execution_count": 33,
   "metadata": {
    "tags": []
   },
   "outputs": [
    {
     "output_type": "stream",
     "name": "stdout",
     "text": "减枝前准确率: 0.8414880078316201\n减枝后准确率: 0.7794811551639745\n"
    }
   ],
   "source": [
    "befordtc = DTC(criterion='gini')\n",
    "befordtc.fit(data, target)\n",
    "print('减枝前准确率:', befordtc.score(data, target))\n",
    "dtc = DTC(criterion='gini',max_leaf_nodes=5)\n",
    "dtc = dtc.fit(data, target)\n",
    "print('减枝后准确率:', dtc.score(data, target))\n"
   ]
  },
  {
   "cell_type": "code",
   "execution_count": 34,
   "metadata": {},
   "outputs": [
    {
     "output_type": "error",
     "ename": "IndexError",
     "evalue": "list index out of range",
     "traceback": [
      "\u001b[0;31m---------------------------------------------------------------------------\u001b[0m",
      "\u001b[0;31mIndexError\u001b[0m                                Traceback (most recent call last)",
      "\u001b[0;32m<ipython-input-34-34c5676f5d91>\u001b[0m in \u001b[0;36m<module>\u001b[0;34m\u001b[0m\n\u001b[0;32m----> 1\u001b[0;31m dot_data = tree.export_graphviz(dtc, out_file=None, \n\u001b[0m\u001b[1;32m      2\u001b[0m                          \u001b[0mfilled\u001b[0m\u001b[0;34m=\u001b[0m\u001b[0;32mTrue\u001b[0m\u001b[0;34m,\u001b[0m \u001b[0mrounded\u001b[0m\u001b[0;34m=\u001b[0m\u001b[0;32mTrue\u001b[0m\u001b[0;34m,\u001b[0m\u001b[0;34m\u001b[0m\u001b[0;34m\u001b[0m\u001b[0m\n\u001b[1;32m      3\u001b[0m                          special_characters=True, feature_names=feature_cols, class_names=['IS_LOST'])  \n\u001b[1;32m      4\u001b[0m \u001b[0mgraph\u001b[0m \u001b[0;34m=\u001b[0m \u001b[0mpydotplus\u001b[0m\u001b[0;34m.\u001b[0m\u001b[0mgraph_from_dot_data\u001b[0m\u001b[0;34m(\u001b[0m\u001b[0mdot_data\u001b[0m\u001b[0;34m)\u001b[0m\u001b[0;34m\u001b[0m\u001b[0;34m\u001b[0m\u001b[0m\n\u001b[1;32m      5\u001b[0m \u001b[0mImage\u001b[0m\u001b[0;34m(\u001b[0m\u001b[0mgraph\u001b[0m\u001b[0;34m.\u001b[0m\u001b[0mcreate_png\u001b[0m\u001b[0;34m(\u001b[0m\u001b[0;34m)\u001b[0m\u001b[0;34m)\u001b[0m\u001b[0;34m\u001b[0m\u001b[0;34m\u001b[0m\u001b[0m\n",
      "\u001b[0;32m~/文档/GitHub/TianchiData/venv/lib/python3.8/site-packages/sklearn/utils/validation.py\u001b[0m in \u001b[0;36minner_f\u001b[0;34m(*args, **kwargs)\u001b[0m\n\u001b[1;32m     71\u001b[0m                           FutureWarning)\n\u001b[1;32m     72\u001b[0m         \u001b[0mkwargs\u001b[0m\u001b[0;34m.\u001b[0m\u001b[0mupdate\u001b[0m\u001b[0;34m(\u001b[0m\u001b[0;34m{\u001b[0m\u001b[0mk\u001b[0m\u001b[0;34m:\u001b[0m \u001b[0marg\u001b[0m \u001b[0;32mfor\u001b[0m \u001b[0mk\u001b[0m\u001b[0;34m,\u001b[0m \u001b[0marg\u001b[0m \u001b[0;32min\u001b[0m \u001b[0mzip\u001b[0m\u001b[0;34m(\u001b[0m\u001b[0msig\u001b[0m\u001b[0;34m.\u001b[0m\u001b[0mparameters\u001b[0m\u001b[0;34m,\u001b[0m \u001b[0margs\u001b[0m\u001b[0;34m)\u001b[0m\u001b[0;34m}\u001b[0m\u001b[0;34m)\u001b[0m\u001b[0;34m\u001b[0m\u001b[0;34m\u001b[0m\u001b[0m\n\u001b[0;32m---> 73\u001b[0;31m         \u001b[0;32mreturn\u001b[0m \u001b[0mf\u001b[0m\u001b[0;34m(\u001b[0m\u001b[0;34m**\u001b[0m\u001b[0mkwargs\u001b[0m\u001b[0;34m)\u001b[0m\u001b[0;34m\u001b[0m\u001b[0;34m\u001b[0m\u001b[0m\n\u001b[0m\u001b[1;32m     74\u001b[0m     \u001b[0;32mreturn\u001b[0m \u001b[0minner_f\u001b[0m\u001b[0;34m\u001b[0m\u001b[0;34m\u001b[0m\u001b[0m\n\u001b[1;32m     75\u001b[0m \u001b[0;34m\u001b[0m\u001b[0m\n",
      "\u001b[0;32m~/文档/GitHub/TianchiData/venv/lib/python3.8/site-packages/sklearn/tree/_export.py\u001b[0m in \u001b[0;36mexport_graphviz\u001b[0;34m(decision_tree, out_file, max_depth, feature_names, class_names, label, filled, leaves_parallel, impurity, node_ids, proportion, rotate, rounded, special_characters, precision)\u001b[0m\n\u001b[1;32m    781\u001b[0m             \u001b[0mrounded\u001b[0m\u001b[0;34m=\u001b[0m\u001b[0mrounded\u001b[0m\u001b[0;34m,\u001b[0m \u001b[0mspecial_characters\u001b[0m\u001b[0;34m=\u001b[0m\u001b[0mspecial_characters\u001b[0m\u001b[0;34m,\u001b[0m\u001b[0;34m\u001b[0m\u001b[0;34m\u001b[0m\u001b[0m\n\u001b[1;32m    782\u001b[0m             precision=precision)\n\u001b[0;32m--> 783\u001b[0;31m         \u001b[0mexporter\u001b[0m\u001b[0;34m.\u001b[0m\u001b[0mexport\u001b[0m\u001b[0;34m(\u001b[0m\u001b[0mdecision_tree\u001b[0m\u001b[0;34m)\u001b[0m\u001b[0;34m\u001b[0m\u001b[0;34m\u001b[0m\u001b[0m\n\u001b[0m\u001b[1;32m    784\u001b[0m \u001b[0;34m\u001b[0m\u001b[0m\n\u001b[1;32m    785\u001b[0m         \u001b[0;32mif\u001b[0m \u001b[0mreturn_string\u001b[0m\u001b[0;34m:\u001b[0m\u001b[0;34m\u001b[0m\u001b[0;34m\u001b[0m\u001b[0m\n",
      "\u001b[0;32m~/文档/GitHub/TianchiData/venv/lib/python3.8/site-packages/sklearn/tree/_export.py\u001b[0m in \u001b[0;36mexport\u001b[0;34m(self, decision_tree)\u001b[0m\n\u001b[1;32m    421\u001b[0m             \u001b[0mself\u001b[0m\u001b[0;34m.\u001b[0m\u001b[0mrecurse\u001b[0m\u001b[0;34m(\u001b[0m\u001b[0mdecision_tree\u001b[0m\u001b[0;34m,\u001b[0m \u001b[0;36m0\u001b[0m\u001b[0;34m,\u001b[0m \u001b[0mcriterion\u001b[0m\u001b[0;34m=\u001b[0m\u001b[0;34m\"impurity\"\u001b[0m\u001b[0;34m)\u001b[0m\u001b[0;34m\u001b[0m\u001b[0;34m\u001b[0m\u001b[0m\n\u001b[1;32m    422\u001b[0m         \u001b[0;32melse\u001b[0m\u001b[0;34m:\u001b[0m\u001b[0;34m\u001b[0m\u001b[0;34m\u001b[0m\u001b[0m\n\u001b[0;32m--> 423\u001b[0;31m             self.recurse(decision_tree.tree_, 0,\n\u001b[0m\u001b[1;32m    424\u001b[0m                          criterion=decision_tree.criterion)\n\u001b[1;32m    425\u001b[0m \u001b[0;34m\u001b[0m\u001b[0m\n",
      "\u001b[0;32m~/文档/GitHub/TianchiData/venv/lib/python3.8/site-packages/sklearn/tree/_export.py\u001b[0m in \u001b[0;36mrecurse\u001b[0;34m(self, tree, node_id, criterion, parent, depth)\u001b[0m\n\u001b[1;32m    507\u001b[0m                 self.recurse(tree, left_child, criterion=criterion,\n\u001b[1;32m    508\u001b[0m                              parent=node_id, depth=depth + 1)\n\u001b[0;32m--> 509\u001b[0;31m                 self.recurse(tree, right_child, criterion=criterion,\n\u001b[0m\u001b[1;32m    510\u001b[0m                              parent=node_id, depth=depth + 1)\n\u001b[1;32m    511\u001b[0m \u001b[0;34m\u001b[0m\u001b[0m\n",
      "\u001b[0;32m~/文档/GitHub/TianchiData/venv/lib/python3.8/site-packages/sklearn/tree/_export.py\u001b[0m in \u001b[0;36mrecurse\u001b[0;34m(self, tree, node_id, criterion, parent, depth)\u001b[0m\n\u001b[1;32m    505\u001b[0m \u001b[0;34m\u001b[0m\u001b[0m\n\u001b[1;32m    506\u001b[0m             \u001b[0;32mif\u001b[0m \u001b[0mleft_child\u001b[0m \u001b[0;34m!=\u001b[0m \u001b[0m_tree\u001b[0m\u001b[0;34m.\u001b[0m\u001b[0mTREE_LEAF\u001b[0m\u001b[0;34m:\u001b[0m\u001b[0;34m\u001b[0m\u001b[0;34m\u001b[0m\u001b[0m\n\u001b[0;32m--> 507\u001b[0;31m                 self.recurse(tree, left_child, criterion=criterion,\n\u001b[0m\u001b[1;32m    508\u001b[0m                              parent=node_id, depth=depth + 1)\n\u001b[1;32m    509\u001b[0m                 self.recurse(tree, right_child, criterion=criterion,\n",
      "\u001b[0;32m~/文档/GitHub/TianchiData/venv/lib/python3.8/site-packages/sklearn/tree/_export.py\u001b[0m in \u001b[0;36mrecurse\u001b[0;34m(self, tree, node_id, criterion, parent, depth)\u001b[0m\n\u001b[1;32m    505\u001b[0m \u001b[0;34m\u001b[0m\u001b[0m\n\u001b[1;32m    506\u001b[0m             \u001b[0;32mif\u001b[0m \u001b[0mleft_child\u001b[0m \u001b[0;34m!=\u001b[0m \u001b[0m_tree\u001b[0m\u001b[0;34m.\u001b[0m\u001b[0mTREE_LEAF\u001b[0m\u001b[0;34m:\u001b[0m\u001b[0;34m\u001b[0m\u001b[0;34m\u001b[0m\u001b[0m\n\u001b[0;32m--> 507\u001b[0;31m                 self.recurse(tree, left_child, criterion=criterion,\n\u001b[0m\u001b[1;32m    508\u001b[0m                              parent=node_id, depth=depth + 1)\n\u001b[1;32m    509\u001b[0m                 self.recurse(tree, right_child, criterion=criterion,\n",
      "\u001b[0;32m~/文档/GitHub/TianchiData/venv/lib/python3.8/site-packages/sklearn/tree/_export.py\u001b[0m in \u001b[0;36mrecurse\u001b[0;34m(self, tree, node_id, criterion, parent, depth)\u001b[0m\n\u001b[1;32m    481\u001b[0m \u001b[0;34m\u001b[0m\u001b[0m\n\u001b[1;32m    482\u001b[0m             self.out_file.write(\n\u001b[0;32m--> 483\u001b[0;31m                 '%d [label=%s' % (node_id, self.node_to_str(tree, node_id,\n\u001b[0m\u001b[1;32m    484\u001b[0m                                                             criterion)))\n\u001b[1;32m    485\u001b[0m \u001b[0;34m\u001b[0m\u001b[0m\n",
      "\u001b[0;32m~/文档/GitHub/TianchiData/venv/lib/python3.8/site-packages/sklearn/tree/_export.py\u001b[0m in \u001b[0;36mnode_to_str\u001b[0;34m(self, tree, node_id, criterion)\u001b[0m\n\u001b[1;32m    352\u001b[0m                 \u001b[0mnode_string\u001b[0m \u001b[0;34m+=\u001b[0m \u001b[0;34m'class = '\u001b[0m\u001b[0;34m\u001b[0m\u001b[0;34m\u001b[0m\u001b[0m\n\u001b[1;32m    353\u001b[0m             \u001b[0;32mif\u001b[0m \u001b[0mself\u001b[0m\u001b[0;34m.\u001b[0m\u001b[0mclass_names\u001b[0m \u001b[0;32mis\u001b[0m \u001b[0;32mnot\u001b[0m \u001b[0;32mTrue\u001b[0m\u001b[0;34m:\u001b[0m\u001b[0;34m\u001b[0m\u001b[0;34m\u001b[0m\u001b[0m\n\u001b[0;32m--> 354\u001b[0;31m                 \u001b[0mclass_name\u001b[0m \u001b[0;34m=\u001b[0m \u001b[0mself\u001b[0m\u001b[0;34m.\u001b[0m\u001b[0mclass_names\u001b[0m\u001b[0;34m[\u001b[0m\u001b[0mnp\u001b[0m\u001b[0;34m.\u001b[0m\u001b[0margmax\u001b[0m\u001b[0;34m(\u001b[0m\u001b[0mvalue\u001b[0m\u001b[0;34m)\u001b[0m\u001b[0;34m]\u001b[0m\u001b[0;34m\u001b[0m\u001b[0;34m\u001b[0m\u001b[0m\n\u001b[0m\u001b[1;32m    355\u001b[0m             \u001b[0;32melse\u001b[0m\u001b[0;34m:\u001b[0m\u001b[0;34m\u001b[0m\u001b[0;34m\u001b[0m\u001b[0m\n\u001b[1;32m    356\u001b[0m                 class_name = \"y%s%s%s\" % (characters[1],\n",
      "\u001b[0;31mIndexError\u001b[0m: list index out of range"
     ]
    }
   ],
   "source": [
    "dot_data = tree.export_graphviz(dtc, out_file=None, \n",
    "                         filled=True, rounded=True,  \n",
    "                         special_characters=True, feature_names=feature_cols, class_names=target_cols)  \n",
    "graph = pydotplus.graph_from_dot_data(dot_data)  \n",
    "Image(graph.create_png()) "
   ]
  },
  {
   "cell_type": "code",
   "execution_count": 35,
   "metadata": {},
   "outputs": [
    {
     "output_type": "stream",
     "name": "stdout",
     "text": "[0 0 0 ... 0 0 0]\n[[0.66976452 0.33023548]\n [0.77461909 0.22538091]\n [0.66976452 0.33023548]\n ...\n [0.94131394 0.05868606]\n [0.77461909 0.22538091]\n [0.77461909 0.22538091]]\n<class 'numpy.ndarray'> <class 'numpy.ndarray'>\n"
    }
   ],
   "source": [
    "pred_list = dtc.predict(data_test)\n",
    "pred_proba_list = dtc.predict_proba(data_test)\n",
    "print(pred_list)\n",
    "print(pred_proba_list)\n",
    "print(type(pred_list),type(pred_proba_list))\n"
   ]
  },
  {
   "cell_type": "code",
   "execution_count": 36,
   "metadata": {},
   "outputs": [
    {
     "output_type": "execute_result",
     "data": {
      "text/plain": "array([0, 0, 0, ..., 0, 0, 0])"
     },
     "metadata": {},
     "execution_count": 36
    }
   ],
   "source": [
    "pred_list"
   ]
  }
 ],
 "metadata": {
  "kernelspec": {
   "display_name": "Python 3.8.2 64-bit ('venv': venv)",
   "language": "python",
   "name": "python_defaultSpec_1595776393800"
  },
  "language_info": {
   "codemirror_mode": {
    "name": "ipython",
    "version": 3
   },
   "file_extension": ".py",
   "mimetype": "text/x-python",
   "name": "python",
   "nbconvert_exporter": "python",
   "pygments_lexer": "ipython3",
   "version": "3.8.2-final"
  }
 },
 "nbformat": 4,
 "nbformat_minor": 2
}